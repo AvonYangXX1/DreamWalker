{
  "nbformat": 4,
  "nbformat_minor": 0,
  "metadata": {
    "colab": {
      "provenance": [],
      "machine_shape": "hm",
      "gpuType": "T4"
    },
    "kernelspec": {
      "name": "python3",
      "display_name": "Python 3"
    },
    "language_info": {
      "name": "python"
    },
    "accelerator": "GPU"
  },
  "cells": [
    {
      "cell_type": "code",
      "execution_count": 1,
      "metadata": {
        "colab": {
          "base_uri": "https://localhost:8080/"
        },
        "id": "z1LAOUMflVwX",
        "outputId": "53223f5b-bab7-4c25-b90f-deb82436a3b1"
      },
      "outputs": [
        {
          "output_type": "stream",
          "name": "stdout",
          "text": [
            "Cloning into 'DreamWalker'...\n",
            "remote: Enumerating objects: 495, done.\u001b[K\n",
            "remote: Counting objects: 100% (142/142), done.\u001b[K\n",
            "remote: Compressing objects: 100% (125/125), done.\u001b[K\n",
            "remote: Total 495 (delta 21), reused 135 (delta 17), pack-reused 353\u001b[K\n",
            "Receiving objects: 100% (495/495), 1.39 GiB | 16.06 MiB/s, done.\n",
            "Resolving deltas: 100% (52/52), done.\n",
            "Updating files: 100% (128/128), done.\n"
          ]
        }
      ],
      "source": [
        "!git clone https://github.com/AvonYangXX1/DreamWalker.git"
      ]
    },
    {
      "cell_type": "code",
      "source": [
        "import pandas as pd\n",
        "import numpy as np\n",
        "import tensorflow as tf\n",
        "import seaborn as sns\n",
        "import matplotlib.pyplot as plt\n",
        "import time\n",
        "from IPython import display"
      ],
      "metadata": {
        "id": "qcwuBrZJle_s"
      },
      "execution_count": 2,
      "outputs": []
    },
    {
      "cell_type": "code",
      "source": [
        "def Laplacian_smoothing(amp, sigma=1e-8):\n",
        "    amp += sigma\n",
        "    return amp / np.sum(amp, axis=2, keepdims=True)"
      ],
      "metadata": {
        "id": "54KPzLiFFyC1"
      },
      "execution_count": 3,
      "outputs": []
    },
    {
      "cell_type": "code",
      "source": [
        "path = \"DreamWalker/data/processed_data/AMP\"\n",
        "pep = np.load(f\"{path}/pep_whole.npz\")[\"data\"].astype(\"float32\")\n",
        "label = np.load(f\"{path}/label_whole.npz\")[\"data\"].astype(\"float32\")\n",
        "pep = tf.one_hot(pep, depth=43).numpy()\n",
        "amp = pep[np.where(label <= 0.89)]\n",
        "amp = Laplacian_smoothing(amp, sigma=1e-8)\n",
        "amp = np.log(amp)\n",
        "# Replace to GAN Data Later"
      ],
      "metadata": {
        "id": "8lAmL9-_lfCO"
      },
      "execution_count": 4,
      "outputs": []
    },
    {
      "cell_type": "code",
      "source": [
        "def linear_schedule(time_steps, beta_start=0.0001, beta_end=0.02):\n",
        "    betas = np.linspace(beta_start, beta_end, time_steps)\n",
        "    alpha_t = 1.0 - betas\n",
        "    alpha_cumprod_t = np.cumprod(alpha_t)\n",
        "    return alpha_cumprod_t\n",
        "\n",
        "def add_noise(x, t, alpha_cumprod_t):\n",
        "    noise = np.random.normal(size=x.shape)\n",
        "    new_x = np.sqrt(alpha_cumprod_t) * x + np.sqrt(1 - alpha_cumprod_t) * noise\n",
        "    return new_x, noise\n",
        "\n",
        "def prepare_data(pep, time_steps, n_steps_needed):\n",
        "    alphas_cumprod = linear_schedule(time_steps)\n",
        "    prob = n_steps_needed / (time_steps * pep.shape[0])\n",
        "    sampled_steps = {\n",
        "        \"x\": [],\n",
        "        \"t\": [],\n",
        "        \"noise\": []\n",
        "    }\n",
        "    for i in range(pep.shape[0]):\n",
        "        x = pep[i]\n",
        "        for t in range(time_steps):\n",
        "            x, noise = add_noise(x, t, alphas_cumprod[t])\n",
        "            if np.random.random() < prob:\n",
        "                sampled_steps['x'].append([x])\n",
        "                sampled_steps['noise'].append([noise])\n",
        "                time_vector = np.zeros(time_steps)\n",
        "                time_vector[t] = 1\n",
        "                sampled_steps['t'].append([time_vector])\n",
        "\n",
        "    sampled_steps['noise'] = np.concatenate(sampled_steps['noise'], axis=0)\n",
        "    sampled_steps['x'] = np.concatenate(sampled_steps['x'], axis=0)\n",
        "    sampled_steps['t'] = np.concatenate(sampled_steps['t'], axis=0)\n",
        "    p = np.arange(sampled_steps['t'].shape[0])\n",
        "    np.random.shuffle(p)\n",
        "    sampled_steps['t'] = sampled_steps['t'][p]\n",
        "    sampled_steps['x'] = sampled_steps['x'][p]\n",
        "    sampled_steps['noise'] = sampled_steps['noise'][p]\n",
        "    return sampled_steps"
      ],
      "metadata": {
        "id": "3Swjkfs2ozqD"
      },
      "execution_count": 6,
      "outputs": []
    },
    {
      "cell_type": "code",
      "source": [
        "time_steps = 1000\n",
        "n_steps_needed = 50000"
      ],
      "metadata": {
        "id": "gyPtmwvloYmg"
      },
      "execution_count": 7,
      "outputs": []
    },
    {
      "cell_type": "code",
      "source": [
        "sampled_steps = prepare_data(amp[0:100], time_steps, n_steps_needed)"
      ],
      "metadata": {
        "id": "lqgeLZA_rbaO"
      },
      "execution_count": 8,
      "outputs": []
    },
    {
      "cell_type": "code",
      "source": [
        "def conv_block(input_tensor, num_filters):\n",
        "    x = tf.keras.layers.Conv1D(num_filters, 3, padding=\"same\")(input_tensor)\n",
        "    x = tf.keras.layers.BatchNormalization()(x)\n",
        "    x = tf.keras.activations.relu(x)\n",
        "    x = tf.keras.layers.Conv1D(num_filters, 3, padding=\"same\")(x)\n",
        "    x = tf.keras.layers.BatchNormalization()(x)\n",
        "    x = tf.keras.activations.relu(x)\n",
        "    return x\n",
        "\n",
        "def encoder_block(input_tensor, num_filters):\n",
        "    x = conv_block(input_tensor, num_filters)\n",
        "    p = tf.keras.layers.MaxPooling1D(2)(x)\n",
        "    return x, p\n",
        "\n",
        "def decoder_block(input_tensor, concat_tensor, num_filters):\n",
        "    x = tf.keras.layers.Conv1DTranspose(num_filters, 2, strides=2, padding=\"same\")(input_tensor)\n",
        "    x = tf.keras.layers.concatenate([x, concat_tensor], axis=1)\n",
        "    x = conv_block(x, num_filters)\n",
        "    return x\n",
        "\n",
        "def build_unet_model(time_steps, pep_shape=(40, 43)):\n",
        "    pep_inputs = tf.keras.layers.Input(shape=pep_shape)\n",
        "    time_inputs = tf.keras.layers.Input(shape=(time_steps,))\n",
        "    time_embedding = tf.keras.layers.Dense(40*43, activation='tanh')(time_inputs)\n",
        "    time_embedding = tf.keras.layers.Reshape((40, 43))(time_embedding)\n",
        "    inputs = tf.keras.layers.Add()([pep_inputs, time_embedding])\n",
        "\n",
        "    # Encoder\n",
        "\n",
        "    x1, p1 = encoder_block(inputs, 64)\n",
        "    x2, p2 = encoder_block(p1, 128)\n",
        "    x3, p3 = encoder_block(p2, 256)\n",
        "    x4, p4 = encoder_block(p3, 512)\n",
        "\n",
        "    # Bottleneck\n",
        "    b = conv_block(p4, 1024)\n",
        "\n",
        "    # Decoder\n",
        "    d1 = decoder_block(b, x4, 512)\n",
        "    d2 = decoder_block(d1, x3, 256)\n",
        "    d3 = decoder_block(d2, x2, 128)\n",
        "    d4 = decoder_block(d3, x1, 64)\n",
        "\n",
        "    # Output\n",
        "    outputs = tf.keras.layers.Conv1D(3, 1, padding=\"same\", activation=\"sigmoid\")(d4)\n",
        "    outputs = tf.keras.layers.Flatten()(outputs)\n",
        "    outputs = tf.keras.layers.Dense(40*43)(outputs)\n",
        "    outputs = tf.keras.layers.Reshape((40, 43))(outputs)\n",
        "\n",
        "    model = tf.keras.models.Model([pep_inputs, time_inputs], outputs, name=\"U-Net\")\n",
        "    return model\n"
      ],
      "metadata": {
        "id": "wJ_Y0cHtuVMD"
      },
      "execution_count": 9,
      "outputs": []
    },
    {
      "cell_type": "code",
      "source": [
        "unet = build_unet_model(time_steps=time_steps)\n",
        "unet.compile(optimizer='adam', loss='mean_squared_error')"
      ],
      "metadata": {
        "id": "DEDuiozourtb"
      },
      "execution_count": 10,
      "outputs": []
    },
    {
      "cell_type": "code",
      "source": [
        "unet.fit([sampled_steps['x'], sampled_steps['t']], sampled_steps['noise'], epochs=10)"
      ],
      "metadata": {
        "colab": {
          "base_uri": "https://localhost:8080/"
        },
        "id": "0k0VIujZ005K",
        "outputId": "63052729-a4d0-47fb-e83e-1df6a93522ef"
      },
      "execution_count": 11,
      "outputs": [
        {
          "output_type": "stream",
          "name": "stdout",
          "text": [
            "Epoch 1/10\n",
            "1567/1567 [==============================] - 57s 24ms/step - loss: 0.9962\n",
            "Epoch 2/10\n",
            "1567/1567 [==============================] - 36s 23ms/step - loss: 0.9540\n",
            "Epoch 3/10\n",
            "1567/1567 [==============================] - 37s 24ms/step - loss: 0.9363\n",
            "Epoch 4/10\n",
            "1567/1567 [==============================] - 37s 23ms/step - loss: 0.9270\n",
            "Epoch 5/10\n",
            "1567/1567 [==============================] - 38s 24ms/step - loss: 0.9187\n",
            "Epoch 6/10\n",
            "1567/1567 [==============================] - 39s 25ms/step - loss: 0.9120\n",
            "Epoch 7/10\n",
            "1567/1567 [==============================] - 37s 23ms/step - loss: 0.9050\n",
            "Epoch 8/10\n",
            "1567/1567 [==============================] - 37s 23ms/step - loss: 0.8986\n",
            "Epoch 9/10\n",
            "1567/1567 [==============================] - 37s 23ms/step - loss: 0.8944\n",
            "Epoch 10/10\n",
            "1567/1567 [==============================] - 36s 23ms/step - loss: 0.8917\n"
          ]
        },
        {
          "output_type": "execute_result",
          "data": {
            "text/plain": [
              "<keras.src.callbacks.History at 0x7bb9503100d0>"
            ]
          },
          "metadata": {},
          "execution_count": 11
        }
      ]
    },
    {
      "cell_type": "code",
      "source": [
        "def denoise_step(x, noise, t, alpha_cumprod):\n",
        "    old_x = ( x -  noise * np.sqrt(1 - alpha_cumprod) ) / np.sqrt(alpha_cumprod)\n",
        "    return old_x\n",
        "\n",
        "def generate(x, model, alpha_cumprod_t, time_steps, start_step=-1, end_step=999):\n",
        "    log = [[x]]\n",
        "    for i in range(end_step, start_step, -1):\n",
        "        time_embedding = np.zeros(time_steps)\n",
        "        time_embedding[i] = 1\n",
        "        time_embedding = np.repeat([time_embedding], x.shape[0], axis=0)\n",
        "        noise = model.predict([x, time_embedding], verbose=0)\n",
        "        x = denoise_step(x, noise, i, alpha_cumprod_t[i])\n",
        "        log.append([x])\n",
        "    return np.concatenate(log, axis=0)"
      ],
      "metadata": {
        "id": "V1qAbUdt2w1H"
      },
      "execution_count": 12,
      "outputs": []
    },
    {
      "cell_type": "code",
      "source": [
        "alpha_cumprod = linear_schedule(time_steps)\n",
        "x = np.random.normal(size=(10, 40, 43))\n",
        "log = generate(x, unet, alpha_cumprod, time_steps, start_step=149, end_step=199)"
      ],
      "metadata": {
        "id": "gQtb_p-63kfH"
      },
      "execution_count": 21,
      "outputs": []
    },
    {
      "cell_type": "code",
      "source": [
        "for t in range(50):\n",
        "    tmp = log[t][0]\n",
        "    tmp = np.exp(tmp)\n",
        "    tmp = tmp / np.sum(tmp, axis=1, keepdims=True)\n",
        "    sns.heatmap(tmp, cbar=False)\n",
        "    plt.title(f\"Step {t}\")\n",
        "    display.display(plt.gcf())\n",
        "    time.sleep(0.1)\n",
        "    display.clear_output(wait=True)"
      ],
      "metadata": {
        "colab": {
          "base_uri": "https://localhost:8080/",
          "height": 452
        },
        "id": "3xVHsR536PQC",
        "outputId": "c6f27f24-f104-4d96-fa17-e8ba9c673a48"
      },
      "execution_count": 22,
      "outputs": [
        {
          "output_type": "display_data",
          "data": {
            "text/plain": [
              "<Figure size 640x480 with 1 Axes>"
            ],
            "image/png": "[encoded data removed]"
          },
          "metadata": {}
        }
      ]
    }
  ]
}