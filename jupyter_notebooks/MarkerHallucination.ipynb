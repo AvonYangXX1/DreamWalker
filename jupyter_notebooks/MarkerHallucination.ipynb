{
  "nbformat": 4,
  "nbformat_minor": 0,
  "metadata": {
    "colab": {
      "provenance": [],
      "gpuType": "T4",
      "machine_shape": "hm"
    },
    "kernelspec": {
      "name": "python3",
      "display_name": "Python 3"
    },
    "language_info": {
      "name": "python"
    },
    "accelerator": "GPU"
  },
  "cells": [
    {
      "cell_type": "code",
      "source": [
        "from google.colab import drive\n",
        "drive.mount('/content/drive')"
      ],
      "metadata": {
        "colab": {
          "base_uri": "https://localhost:8080/"
        },
        "id": "Skko3RiUSdRk",
        "outputId": "fa59cde7-310b-491d-8eb0-92e83cb473de"
      },
      "execution_count": null,
      "outputs": [
        {
          "output_type": "stream",
          "name": "stdout",
          "text": [
            "Mounted at /content/drive\n"
          ]
        }
      ]
    },
    {
      "cell_type": "code",
      "execution_count": null,
      "metadata": {
        "id": "Un8Vus9RfeSa"
      },
      "outputs": [],
      "source": [
        "!git clone https://github.com/AvonYangXX1/DreamWalker.git\n",
        "from DreamWalker.commandline_scripts.utils import ModelLoader, Preprocessing\n",
        "import tensorflow as tf\n",
        "from tensorflow.keras.optimizers import Adam\n",
        "from tensorflow.keras import layers\n",
        "import numpy as np\n",
        "import math\n",
        "import matplotlib.pyplot as plt\n",
        "import statistics\n",
        "import pandas as pd\n",
        "import random"
      ]
    },
    {
      "cell_type": "code",
      "source": [
        "loader = ModelLoader()\n",
        "oracle = loader.create_oracle()"
      ],
      "metadata": {
        "id": "IDjckuqy2VDV"
      },
      "execution_count": null,
      "outputs": []
    },
    {
      "cell_type": "code",
      "source": [
        "data = pd.read_csv(\"DreamWalker/data/processed_data/AMP/PeptideMarkerMIC.csv\")\n",
        "targets = [\"Escherichia_coli\", \"Pseudomonas_aeruginosa\", \"Staphylococcus_aureus\", \"Bacillus_subtilis\", \"Salmonella_enterica\"]\n",
        "SpeciesToMarker = data.query(\"Target in @targets\").drop_duplicates(\"Target\")[[\"Target\", \"Marker\"]].set_index(\"Target\")"
      ],
      "metadata": {
        "id": "1wLgZAXHxu8l"
      },
      "execution_count": null,
      "outputs": []
    },
    {
      "cell_type": "code",
      "source": [
        "pp = Preprocessing(5)\n",
        "SpeciesToKmers = []\n",
        "for seq in SpeciesToMarker.values.tolist():\n",
        "    SpeciesToKmers.append(pp.CountKmers(seq))\n",
        "SpeciesToKmers = np.concatenate(SpeciesToKmers, axis=0)"
      ],
      "metadata": {
        "id": "YzUt6vnmWSgO"
      },
      "execution_count": null,
      "outputs": []
    },
    {
      "cell_type": "code",
      "source": [
        "aa_vocal = np.load(\"DreamWalker/model_weights/PepTV_vocal.npy\")\n",
        "pep_decoder = tf.keras.layers.StringLookup(vocabulary=aa_vocal[1:], invert=True, oov_token='')"
      ],
      "metadata": {
        "id": "TE8N74OskM7p"
      },
      "execution_count": null,
      "outputs": []
    },
    {
      "cell_type": "code",
      "source": [
        "class Dreaming(): # This class trains the DreamWalker (exploring Oracle's dream)\n",
        "    def __init__(self, oracle, pep_decoder, alpha=0.25, decoder_choice=\"decoder\", learning_rate=1e-3):\n",
        "        self.alpha = alpha\n",
        "        self.generated_onehot = None\n",
        "        self.loss = None\n",
        "        self.gradients = None\n",
        "        self.optimizer = None\n",
        "        self.generator = loader.create_generator(decoder_choice)\n",
        "        self.oracle = oracle\n",
        "        self.pep_decoder = pep_decoder\n",
        "        self.learning_rate = learning_rate\n",
        "\n",
        "    @tf.function\n",
        "    def compute_gradient(self, marker_batch_pos, marker_batch_neg, batch_size):\n",
        "\n",
        "        with tf.GradientTape() as gen_tape:\n",
        "            gen_tape.watch([marker_batch_pos, marker_batch_neg])\n",
        "            self.generated_onehot = self.generator(marker_batch_pos, training=True)\n",
        "            mic_pos = tf.reduce_mean(self.oracle([self.generated_onehot, marker_batch_pos]))\n",
        "            mic_neg = 0\n",
        "            for i in range(4):\n",
        "                mic_neg += tf.reduce_mean( self.oracle([self.generated_onehot, marker_batch_neg[:, i]] ))\n",
        "\n",
        "            self.loss = mic_pos - self.alpha * mic_neg\n",
        "\n",
        "        self.gradients = gen_tape.gradient(self.loss, self.generator.trainable_variables)\n",
        "        self.optimizer.apply_gradients(zip(self.gradients, self.generator.trainable_variables))\n",
        "        return mic_pos, mic_neg\n",
        "\n",
        "    def ExploreHallucination(self, SpeciesToKmers, n_iter_max, batch_size):\n",
        "\n",
        "        # prepare kmers of targets\n",
        "        markers = []\n",
        "        for i in range(n_iter_max * batch_size):\n",
        "            key = [i for i in range(5)]\n",
        "            random.seed(i)\n",
        "            random.shuffle(key)\n",
        "            markers.append([SpeciesToKmers[key]])\n",
        "        markers = np.concatenate(markers, axis=0)\n",
        "        ###\n",
        "        mic_pos_log, mic_neg_log  = [], []\n",
        "        self.optimizer = tf.keras.optimizers.Adam(learning_rate=self.learning_rate)\n",
        "        for i in range (n_iter_max):\n",
        "            #Sequences prediction and gradient computation\n",
        "            marker_batch_pos = markers[i:i + batch_size, 0]\n",
        "            marker_batch_pos = tf.convert_to_tensor(marker_batch_pos, np.float64)\n",
        "\n",
        "            marker_batch_neg = markers[i:i + batch_size, 1:5]\n",
        "            marker_batch_neg = tf.convert_to_tensor(marker_batch_neg, np.float64)\n",
        "\n",
        "            mic_pos, mic_neg = self.compute_gradient(marker_batch_pos, marker_batch_neg, batch_size)\n",
        "            # generated_sequences = self.onehot2seq(generated_onehot)\n",
        "            mic_pos_log.append(mic_pos.numpy())\n",
        "            mic_neg_log.append(mic_neg.numpy())\n",
        "\n",
        "            # print(f\"Iter {i+1}/{n_iter_max}; MIC_POS {np.mean(mic_pos):.4f}; MIC_NEG {np.mean(mic_neg):.4f}\")\n",
        "        mic_neg_log = np.array(mic_neg_log)\n",
        "        mic_pos_log = np.array(mic_pos_log)\n",
        "        return mic_pos_log, mic_neg_log\n",
        "\n",
        "    def onehot2seq(self, onehot):\n",
        "        decoded_sequences = []\n",
        "        chars_array = self.pep_decoder(tf.math.argmax(onehot, axis=2)).numpy().astype('str')\n",
        "        decoded_sequences += [\"\".join(chars) for chars in chars_array]\n",
        "        return decoded_sequences"
      ],
      "metadata": {
        "id": "QdwWf9d0RMlJ"
      },
      "execution_count": null,
      "outputs": []
    },
    {
      "cell_type": "code",
      "source": [
        "n_iter_max = 2000\n",
        "batch_size = 128\n",
        "dreaming = Dreaming(oracle, pep_decoder, alpha=0.125, decoder_choice=\"GAN\", learning_rate=1e-4)\n",
        "mic_pos_log, mic_neg_log = dreaming.ExploreHallucination(SpeciesToKmers, n_iter_max, batch_size)"
      ],
      "metadata": {
        "id": "wbEqlQ5xz8R4"
      },
      "execution_count": null,
      "outputs": []
    },
    {
      "cell_type": "code",
      "source": [
        "onehot = dreaming.generator.predict(SpeciesToKmers, verbose=0)\n",
        "print(oracle.predict([onehot, SpeciesToKmers], verbose=0))\n",
        "decoded_sequences = dreaming.onehot2seq(onehot)\n",
        "decoded_sequences"
      ],
      "metadata": {
        "id": "0HB0t-Kygb4p"
      },
      "execution_count": null,
      "outputs": []
    },
    {
      "cell_type": "code",
      "source": [
        "parameters = {\"MIC_POS\" : mic_pos_log,\n",
        "              \"MEAN_MIC_NEG\" : 0.25 * mic_neg_log,\n",
        "              }\n",
        "for p in list(parameters.keys()):\n",
        "    plt.plot(range(len(parameters[p])), parameters[p], linestyle='-', label = p)\n",
        "plt.legend(loc = \"upper right\")\n",
        "plt.ylabel(\"MIC\")\n",
        "plt.xlabel(\"Batch index\")\n",
        "plt.title(\"Performances with the Hallucination Exploration\")\n",
        "plt.savefig(\"MIC.png\")"
      ],
      "metadata": {
        "id": "b-5-WfhdCE_r"
      },
      "execution_count": null,
      "outputs": []
    },
    {
      "cell_type": "code",
      "source": [
        "# path = \"drive/MyDrive/DreamWalker/model_weights/DreamWalkerWeights\"\n",
        "# for i, layer in enumerate(dreaming.generator.layers):\n",
        "#     param = layer.get_weights()\n",
        "#     if len(param) == 0:\n",
        "#         continue\n",
        "#     weights = param[0]\n",
        "#     biases = param[1]\n",
        "#     np.savez_compressed(f'{path}/layer_{i}_weights', weights=weights)\n",
        "#     np.savez_compressed(f'{path}/layer_{i}_biases', biases=biases)"
      ],
      "metadata": {
        "id": "uhqz2OuoRu7g"
      },
      "execution_count": null,
      "outputs": []
    }
  ]
}