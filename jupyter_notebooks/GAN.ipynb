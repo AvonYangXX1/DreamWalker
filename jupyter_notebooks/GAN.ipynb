{
  "nbformat": 4,
  "nbformat_minor": 0,
  "metadata": {
    "colab": {
      "provenance": [],
      "gpuType": "V100"
    },
    "kernelspec": {
      "name": "python3",
      "display_name": "Python 3"
    },
    "language_info": {
      "name": "python"
    },
    "accelerator": "GPU"
  },
  "cells": [
    {
      "cell_type": "code",
      "execution_count": 1,
      "metadata": {
        "colab": {
          "base_uri": "https://localhost:8080/"
        },
        "id": "4Py_C5LTk7hY",
        "outputId": "aca6b0ee-46f1-47e9-d4a4-a93b7aa5c07d"
      },
      "outputs": [
        {
          "output_type": "stream",
          "name": "stdout",
          "text": [
            "Cloning into 'DreamWalker'...\n",
            "remote: Enumerating objects: 250, done.\u001b[K\n",
            "remote: Counting objects: 100% (39/39), done.\u001b[K\n",
            "remote: Compressing objects: 100% (38/38), done.\u001b[K\n",
            "remote: Total 250 (delta 2), reused 36 (delta 1), pack-reused 211\u001b[K\n",
            "Receiving objects: 100% (250/250), 863.48 MiB | 21.31 MiB/s, done.\n",
            "Resolving deltas: 100% (14/14), done.\n",
            "Updating files: 100% (110/110), done.\n"
          ]
        }
      ],
      "source": [
        "!git clone https://github.com/AvonYangXX1/DreamWalker.git"
      ]
    },
    {
      "cell_type": "code",
      "source": [
        "import tensorflow as tf\n",
        "from tensorflow.keras import layers\n",
        "import numpy as np\n",
        "import os"
      ],
      "metadata": {
        "id": "DtrMpIE3k-qy"
      },
      "execution_count": 2,
      "outputs": []
    },
    {
      "cell_type": "markdown",
      "source": [
        "## Generator"
      ],
      "metadata": {
        "id": "eWmuIoYXZlS1"
      }
    },
    {
      "cell_type": "code",
      "source": [
        "# Generator\n",
        "def build_generator(seq_length, depth, latent_dim):\n",
        "    inputs0 = layers.Input(shape=(latent_dim,), name=\"Input0\")\n",
        "    x = layers.Dense(256, activation='relu', name=\"Dense0\")(inputs0)\n",
        "    x = layers.BatchNormalization(name=\"Norm0\")(x)\n",
        "    x = layers.Dense(256, activation='relu', name=\"Dense1\")(x)\n",
        "    x = layers.BatchNormalization(name=\"Norm1\")(x)\n",
        "    x = layers.Dense(256, activation='relu', name=\"Dense2\")(x)\n",
        "    x = layers.BatchNormalization(name=\"Norm2\")(x)\n",
        "    x = layers.Dense(256, activation='relu', name=\"Dense3\")(x)\n",
        "    x = layers.BatchNormalization(name=\"Norm3\")(x)\n",
        "    x = layers.Dense(256, activation='relu', name=\"Dense4\")(x)\n",
        "    x = layers.Dense(seq_length*depth, activation='linear', name=\"DenseResize\")(x)\n",
        "    x = layers.Reshape((seq_length, depth), name=\"Reshape\")(x)\n",
        "    # x = layers.RepeatVector(seq_length, name=\"RepeatVector\")(x)\n",
        "    # x = layers.LSTM(256, return_sequences=True, name=\"GRU0\")(x)\n",
        "    x = layers.Dense(depth, activation=\"softmax\", name=\"Output\")(x)\n",
        "    model = tf.keras.models.Model(inputs=inputs0, outputs=x)\n",
        "    return model"
      ],
      "metadata": {
        "id": "JMuOeJg8nobW"
      },
      "execution_count": 3,
      "outputs": []
    },
    {
      "cell_type": "code",
      "source": [
        "# Discriminator\n",
        "def build_discriminator(seq_length, depth):\n",
        "    model = tf.keras.Sequential(name=\"discriminator\")\n",
        "    model.add(layers.Conv1D(32, 5, name=\"Conv1D\"))\n",
        "    model.add(layers.Flatten(name=\"Flatten\"))\n",
        "    model.add(layers.Dense(512, activation='relu', name=\"Dense0\"))\n",
        "    model.add(layers.Dropout(0.3, name=\"Dropout\"))\n",
        "    model.add(layers.Dense(256, activation='relu', name=\"Dense1\"))\n",
        "    model.add(layers.Dense(1, activation='sigmoid', name=\"Output\"))\n",
        "    return model"
      ],
      "metadata": {
        "id": "4L4eTXntns4X"
      },
      "execution_count": 4,
      "outputs": []
    },
    {
      "cell_type": "code",
      "source": [
        "# GAN\n",
        "def compile_gan(generator, discriminator):\n",
        "    discriminator.compile(loss='binary_crossentropy',\n",
        "                          optimizer='adam',\n",
        "                          metrics=[tf.keras.metrics.FalsePositives(),\n",
        "                                   tf.keras.metrics.FalseNegatives()])\n",
        "    discriminator.trainable = False\n",
        "    gan_input0 = layers.Input(shape=(latent_dim,))\n",
        "    gan_output = discriminator(generator(gan_input0))\n",
        "    gan = tf.keras.Model(gan_input0, gan_output)\n",
        "    gan.compile(loss='binary_crossentropy', optimizer=tf.keras.optimizers.Adam(1e-4))\n",
        "    return gan"
      ],
      "metadata": {
        "id": "W6NAwUHBntRD"
      },
      "execution_count": 5,
      "outputs": []
    },
    {
      "cell_type": "markdown",
      "source": [
        "## PreTrain"
      ],
      "metadata": {
        "id": "wRxan2l7ZxFF"
      }
    },
    {
      "cell_type": "code",
      "source": [
        "pretrain_sequences = np.load(f\"{path}/enc_uniprot.npz\")['data']"
      ],
      "metadata": {
        "id": "j-6UbD5qn18n"
      },
      "execution_count": 16,
      "outputs": []
    },
    {
      "cell_type": "code",
      "source": [
        "print(pep_decoder)"
      ],
      "metadata": {
        "colab": {
          "base_uri": "https://localhost:8080/"
        },
        "id": "_F2PETzrip-n",
        "outputId": "2d884695-9dfc-48a7-b0dd-2424716eab2a"
      },
      "execution_count": 7,
      "outputs": [
        {
          "output_type": "stream",
          "name": "stdout",
          "text": [
            "[[21  6  2 ...  0  0  0]\n",
            " [21  4 15 ...  0  0  0]\n",
            " [21  4 15 ...  0  0  0]\n",
            " ...\n",
            " [21 11 17 ...  0  0  0]\n",
            " [21 18  5 ...  0  0  0]\n",
            " [21 12  5 ...  0  0  0]]\n"
          ]
        }
      ]
    },
    {
      "cell_type": "code",
      "source": [
        "num_group = 20\n",
        "size = 1078141/num_group\n",
        "for i in range(num_group):\n",
        "    start = int(size * i)\n",
        "    end = int(size * (i+1))\n",
        "    np.save(f\"/content/DreamWalker/data/processed_data/GAN/gan_train_data/group_{i}\", pretrain_sequences [start:end])"
      ],
      "metadata": {
        "id": "lMPC_5EnTLNO"
      },
      "execution_count": 18,
      "outputs": []
    },
    {
      "cell_type": "code",
      "execution_count": 37,
      "metadata": {
        "id": "wsf1VEOQqURb"
      },
      "outputs": [],
      "source": [
        "def train_gan(generator, discriminator, gan, path, epochs, batch_size, latent_dim, demo_noise):\n",
        "    for epoch in range(epochs):\n",
        "        files = os.listdir(path)\n",
        "        # print(files)\n",
        "        for file in files:\n",
        "            seq = np.load(f\"{path}/{file}\", allow_pickle=True)\n",
        "            # print(seq)\n",
        "            # print(seq.shape)\n",
        "            seq = tf.one_hot(seq.squeeze(), depth=43)\n",
        "            total_d_loss = 0\n",
        "            total_g_loss = 0\n",
        "            num_batches = int(seq.shape[0] / batch_size)\n",
        "\n",
        "\n",
        "            for i in range(0, seq.shape[0], batch_size):\n",
        "                real_sequences = seq[i:i + batch_size]\n",
        "                current_batch_size = real_sequences.shape[0]\n",
        "\n",
        "                # Generate Fake sequence\n",
        "                noise = (np.random.rand(current_batch_size, latent_dim)-0.5)*2\n",
        "                generated_sequences = generator.predict(noise, verbose=0)\n",
        "\n",
        "                # Labels for real and fake data\n",
        "                real_labels = np.ones((current_batch_size, 1))\n",
        "                fake_labels = np.zeros((current_batch_size, 1))\n",
        "\n",
        "                # Train discriminator\n",
        "                discriminator.trainable = True\n",
        "                d_loss_real = discriminator.train_on_batch(real_sequences, real_labels)\n",
        "                d_loss_fake = discriminator.train_on_batch(generated_sequences, fake_labels)\n",
        "                d_loss = 0.5 * np.add(d_loss_real, d_loss_fake)\n",
        "                discriminator.trainable = False\n",
        "\n",
        "                # Train generator\n",
        "                g_loss = gan.train_on_batch(noise, np.ones((current_batch_size, 1)))\n",
        "\n",
        "                total_d_loss += d_loss\n",
        "                total_g_loss += g_loss\n",
        "                # print(f\"Epoch {epoch+1}/{epochs}; {file}; Batch {i}/{num_batches}; FP {d_loss[1]/current_batch_size:.4f}; FN {d_loss[2]/current_batch_size:.4f}; G_loss {g_loss:.4f}\")\n",
        "\n",
        "            # demo_seq = generator(demo_noise)\n",
        "            # demo_seq = tf.math.argmax(demo_seq, axis=2)\n",
        "            # demo_seq = pep_decoder(demo_seq).numpy().astype('str')\n",
        "            # demo_seq = [\"\".join(chars) for chars in demo_seq]\n",
        "            # print(demo_seq[0])\n",
        "            print(f\"Epoch {epoch+1}/{epochs}; FP {total_d_loss[1]/seq.shape[0]:.4f}; FN {total_d_loss[2]/seq.shape[0]:.4f}; G_Loss {total_g_loss/num_batches:.4f}\")\n",
        "            # del seq\n",
        "            # generator.save(f\"drive/MyDrive/MIT687/Generator.keras\")\n",
        "            # discriminator.save(f\"drive/MyDrive/MIT687/Discriminator.keras\")"
      ]
    },
    {
      "cell_type": "code",
      "source": [
        "# def train_gan(generator, discriminator, gan, path, epochs, batch_size, latent_dim, demo_noise):\n",
        "\n",
        "#     for epoch in range(epochs):\n",
        "#       # Load pre-trained sequences\n",
        "#         pretrain_sequences = np.load(f\"{path}/enc_uniprot.npz\")['data']\n",
        "#         seq  = tf.one_hot(pretrain_sequences.squeeze(), depth=43)\n",
        "#         total_d_loss = 0\n",
        "#         total_g_loss = 0\n",
        "#         num_batches = int(np.ceil(pretrain_sequences.shape[0] / batch_size))\n",
        "\n",
        "#         for i in range(0, seq.shape[0], batch_size):\n",
        "#                 real_sequences = seq[i:i + batch_size]\n",
        "#                 current_batch_size = real_sequences.shape[0]\n",
        "\n",
        "#                   # Generate Fake sequence\n",
        "#                 noise = (np.random.rand(current_batch_size, latent_dim)-0.5)*2\n",
        "#                 generated_sequences = generator.predict(noise, verbose=0)\n",
        "\n",
        "#                 # Labels for real and fake data\n",
        "#                 real_labels = np.ones((current_batch_size, 1))\n",
        "#                 fake_labels = np.zeros((current_batch_size, 1))\n",
        "\n",
        "#                 # Train discriminator\n",
        "#                 discriminator.trainable = True\n",
        "#                 d_loss_real = discriminator.train_on_batch(real_sequences, real_labels)\n",
        "#                 d_loss_fake = discriminator.train_on_batch(generated_sequences, fake_labels)\n",
        "#                 d_loss = 0.5 * np.add(d_loss_real, d_loss_fake)\n",
        "#                 discriminator.trainable = False\n",
        "\n",
        "#                 # Train generator\n",
        "#                 g_loss = gan.train_on_batch(noise, np.ones((current_batch_size, 1)))\n",
        "\n",
        "#                 total_d_loss += d_loss\n",
        "#                 total_g_loss += g_loss\n",
        "#                 # print(f\"Epoch {epoch+1}/{epochs}; {file}; Batch {i}/{num_batches}; FP {d_loss[1]/current_batch_size:.4f}; FN {d_loss[2]/current_batch_size:.4f}; G_loss {g_loss:.4f}\")\n",
        "\n",
        "#         demo_seq = generator(demo_noise)\n",
        "#         demo_seq = tf.math.argmax(demo_seq, axis=2)\n",
        "#         demo_seq = pep_decoder(demo_seq).numpy().astype('str')\n",
        "#         demo_seq = [\"\".join(chars) for chars in demo_seq]\n",
        "#         print(demo_seq[0])\n",
        "#         print(f\"Epoch {epoch+1}/{epochs}; FP {total_d_loss[1]/seq.shape[0]:.4f}; FN {total_d_loss[2]/seq.shape[0]:.4f}; G_Loss {total_g_loss/num_batches:.4f}\")\n",
        "#         del seq"
      ],
      "metadata": {
        "id": "1e_o6JcQk1mm"
      },
      "execution_count": 38,
      "outputs": []
    },
    {
      "cell_type": "code",
      "source": [
        "latent_dim = 32\n",
        "seq_length = 40\n",
        "depth = 43\n",
        "\n",
        "path = \"/content/DreamWalker/data/processed_data/GAN/gan_train_data\"\n",
        "np.random.seed(8701)\n",
        "demo_noise = noise = (np.random.rand(1, latent_dim)-0.5)*2"
      ],
      "metadata": {
        "id": "9dvwWlYXaiuM"
      },
      "execution_count": 39,
      "outputs": []
    },
    {
      "cell_type": "code",
      "source": [
        "generator = build_generator(seq_length, depth, latent_dim)\n",
        "discriminator = build_discriminator(seq_length,depth)\n",
        "gan = compile_gan(generator, discriminator)"
      ],
      "metadata": {
        "id": "p-RXBWFDuDx-"
      },
      "execution_count": 40,
      "outputs": []
    },
    {
      "cell_type": "code",
      "source": [
        "train_gan(generator, discriminator, gan, path=path, epochs=5, batch_size=22, latent_dim=latent_dim, demo_noise=demo_noise)\n"
      ],
      "metadata": {
        "id": "KriluAn9bY3V",
        "colab": {
          "base_uri": "https://localhost:8080/"
        },
        "outputId": "5d121c58-28d3-46ca-c6c4-8039f12dafe7"
      },
      "execution_count": 41,
      "outputs": [
        {
          "output_type": "stream",
          "name": "stdout",
          "text": [
            "Epoch 1/5; FP 0.0021; FN 0.0027; G_Loss 9.8022\n",
            "Epoch 1/5; FP 0.0029; FN 0.0035; G_Loss 9.2211\n",
            "Epoch 1/5; FP 0.0022; FN 0.0029; G_Loss 11.9018\n",
            "Epoch 1/5; FP 0.0019; FN 0.0033; G_Loss 10.2826\n",
            "Epoch 1/5; FP 0.0015; FN 0.0029; G_Loss 10.7482\n",
            "Epoch 1/5; FP 0.0018; FN 0.0021; G_Loss 17.3736\n",
            "Epoch 1/5; FP 0.0019; FN 0.0024; G_Loss 15.9485\n",
            "Epoch 1/5; FP 0.0011; FN 0.0016; G_Loss 21.3331\n",
            "Epoch 1/5; FP 0.0003; FN 0.0003; G_Loss 50.8056\n",
            "Epoch 1/5; FP 0.0001; FN 0.0001; G_Loss 42.4288\n",
            "Epoch 1/5; FP 0.0000; FN 0.0000; G_Loss 123.6645\n",
            "Epoch 1/5; FP 0.0001; FN 0.0001; G_Loss 95.0598\n",
            "Epoch 1/5; FP 0.0001; FN 0.0001; G_Loss 135.1748\n",
            "Epoch 1/5; FP 0.0000; FN 0.0000; G_Loss 74.2955\n",
            "Epoch 1/5; FP 0.0005; FN 0.0005; G_Loss 120.3222\n",
            "Epoch 1/5; FP 0.0009; FN 0.0009; G_Loss 47.4669\n",
            "Epoch 1/5; FP 0.0017; FN 0.0018; G_Loss 33.4660\n",
            "Epoch 1/5; FP 0.0020; FN 0.0021; G_Loss 20.0430\n",
            "Epoch 1/5; FP 0.0017; FN 0.0020; G_Loss 18.0887\n",
            "Epoch 1/5; FP 0.0020; FN 0.0027; G_Loss 15.6475\n",
            "Epoch 2/5; FP 0.0020; FN 0.0025; G_Loss 20.2383\n",
            "Epoch 2/5; FP 0.0020; FN 0.0024; G_Loss 16.7258\n",
            "Epoch 2/5; FP 0.0028; FN 0.0036; G_Loss 12.6059\n",
            "Epoch 2/5; FP 0.0043; FN 0.0072; G_Loss 8.8325\n",
            "Epoch 2/5; FP 0.0032; FN 0.0050; G_Loss 9.7301\n",
            "Epoch 2/5; FP 0.0040; FN 0.0046; G_Loss 13.8469\n",
            "Epoch 2/5; FP 0.0042; FN 0.0061; G_Loss 9.9745\n",
            "Epoch 2/5; FP 0.0052; FN 0.0088; G_Loss 7.7201\n",
            "Epoch 2/5; FP 0.0026; FN 0.0042; G_Loss 9.3746\n",
            "Epoch 2/5; FP 0.0029; FN 0.0042; G_Loss 12.2743\n",
            "Epoch 2/5; FP 0.0037; FN 0.0058; G_Loss 10.0349\n",
            "Epoch 2/5; FP 0.0036; FN 0.0061; G_Loss 7.9910\n",
            "Epoch 2/5; FP 0.0037; FN 0.0059; G_Loss 8.3632\n",
            "Epoch 2/5; FP 0.0037; FN 0.0051; G_Loss 9.4549\n",
            "Epoch 2/5; FP 0.0035; FN 0.0060; G_Loss 7.4491\n",
            "Epoch 2/5; FP 0.0022; FN 0.0033; G_Loss 8.7270\n",
            "Epoch 2/5; FP 0.0029; FN 0.0046; G_Loss 7.9384\n",
            "Epoch 2/5; FP 0.0043; FN 0.0067; G_Loss 6.9533\n",
            "Epoch 2/5; FP 0.0035; FN 0.0054; G_Loss 7.6587\n",
            "Epoch 2/5; FP 0.0029; FN 0.0052; G_Loss 7.0897\n",
            "Epoch 3/5; FP 0.0023; FN 0.0037; G_Loss 7.9336\n",
            "Epoch 3/5; FP 0.0036; FN 0.0056; G_Loss 7.4221\n",
            "Epoch 3/5; FP 0.0051; FN 0.0077; G_Loss 6.5865\n",
            "Epoch 3/5; FP 0.0070; FN 0.0120; G_Loss 5.7069\n",
            "Epoch 3/5; FP 0.0047; FN 0.0086; G_Loss 5.8275\n",
            "Epoch 3/5; FP 0.0029; FN 0.0045; G_Loss 6.9125\n",
            "Epoch 3/5; FP 0.0039; FN 0.0075; G_Loss 5.7173\n",
            "Epoch 3/5; FP 0.0068; FN 0.0127; G_Loss 5.2647\n",
            "Epoch 3/5; FP 0.0021; FN 0.0049; G_Loss 5.9690\n",
            "Epoch 3/5; FP 0.0024; FN 0.0047; G_Loss 6.9087\n",
            "Epoch 3/5; FP 0.0044; FN 0.0084; G_Loss 5.9201\n",
            "Epoch 3/5; FP 0.0062; FN 0.0100; G_Loss 5.5326\n",
            "Epoch 3/5; FP 0.0039; FN 0.0068; G_Loss 5.6630\n",
            "Epoch 3/5; FP 0.0035; FN 0.0064; G_Loss 5.7464\n",
            "Epoch 3/5; FP 0.0045; FN 0.0086; G_Loss 5.7155\n",
            "Epoch 3/5; FP 0.0036; FN 0.0063; G_Loss 6.3913\n",
            "Epoch 3/5; FP 0.0036; FN 0.0066; G_Loss 5.7824\n",
            "Epoch 3/5; FP 0.0042; FN 0.0076; G_Loss 5.6213\n",
            "Epoch 3/5; FP 0.0034; FN 0.0060; G_Loss 5.8936\n",
            "Epoch 3/5; FP 0.0046; FN 0.0082; G_Loss 5.6958\n",
            "Epoch 4/5; FP 0.0029; FN 0.0056; G_Loss 6.1588\n",
            "Epoch 4/5; FP 0.0041; FN 0.0065; G_Loss 6.0209\n",
            "Epoch 4/5; FP 0.0054; FN 0.0093; G_Loss 5.6933\n",
            "Epoch 4/5; FP 0.0107; FN 0.0186; G_Loss 4.9916\n",
            "Epoch 4/5; FP 0.0078; FN 0.0141; G_Loss 5.4248\n",
            "Epoch 4/5; FP 0.0043; FN 0.0068; G_Loss 5.9136\n",
            "Epoch 4/5; FP 0.0044; FN 0.0078; G_Loss 6.0575\n",
            "Epoch 4/5; FP 0.0097; FN 0.0184; G_Loss 5.0204\n",
            "Epoch 4/5; FP 0.0035; FN 0.0073; G_Loss 5.8342\n",
            "Epoch 4/5; FP 0.0043; FN 0.0073; G_Loss 5.8856\n",
            "Epoch 4/5; FP 0.0063; FN 0.0111; G_Loss 5.6764\n",
            "Epoch 4/5; FP 0.0071; FN 0.0132; G_Loss 5.5033\n",
            "Epoch 4/5; FP 0.0055; FN 0.0105; G_Loss 5.5843\n",
            "Epoch 4/5; FP 0.0046; FN 0.0085; G_Loss 5.8088\n",
            "Epoch 4/5; FP 0.0062; FN 0.0113; G_Loss 5.7295\n",
            "Epoch 4/5; FP 0.0042; FN 0.0074; G_Loss 5.8687\n",
            "Epoch 4/5; FP 0.0052; FN 0.0095; G_Loss 5.8827\n",
            "Epoch 4/5; FP 0.0056; FN 0.0107; G_Loss 5.6011\n",
            "Epoch 4/5; FP 0.0046; FN 0.0085; G_Loss 5.8981\n",
            "Epoch 4/5; FP 0.0059; FN 0.0100; G_Loss 5.7409\n",
            "Epoch 5/5; FP 0.0040; FN 0.0069; G_Loss 5.9924\n",
            "Epoch 5/5; FP 0.0059; FN 0.0088; G_Loss 5.9558\n",
            "Epoch 5/5; FP 0.0078; FN 0.0130; G_Loss 5.4515\n",
            "Epoch 5/5; FP 0.0143; FN 0.0242; G_Loss 4.6976\n",
            "Epoch 5/5; FP 0.0096; FN 0.0181; G_Loss 5.0841\n",
            "Epoch 5/5; FP 0.0049; FN 0.0082; G_Loss 5.7095\n",
            "Epoch 5/5; FP 0.0062; FN 0.0108; G_Loss 5.7904\n",
            "Epoch 5/5; FP 0.0115; FN 0.0209; G_Loss 4.8469\n",
            "Epoch 5/5; FP 0.0045; FN 0.0089; G_Loss 5.6563\n",
            "Epoch 5/5; FP 0.0057; FN 0.0097; G_Loss 5.5906\n",
            "Epoch 5/5; FP 0.0071; FN 0.0132; G_Loss 5.4800\n",
            "Epoch 5/5; FP 0.0092; FN 0.0161; G_Loss 5.1912\n",
            "Epoch 5/5; FP 0.0070; FN 0.0129; G_Loss 5.3327\n",
            "Epoch 5/5; FP 0.0066; FN 0.0112; G_Loss 5.5407\n",
            "Epoch 5/5; FP 0.0077; FN 0.0136; G_Loss 5.3448\n",
            "Epoch 5/5; FP 0.0056; FN 0.0095; G_Loss 5.4994\n",
            "Epoch 5/5; FP 0.0058; FN 0.0097; G_Loss 5.6072\n",
            "Epoch 5/5; FP 0.0074; FN 0.0121; G_Loss 5.3799\n",
            "Epoch 5/5; FP 0.0057; FN 0.0101; G_Loss 5.6639\n",
            "Epoch 5/5; FP 0.0073; FN 0.0126; G_Loss 5.2866\n"
          ]
        }
      ]
    },
    {
      "cell_type": "code",
      "source": [
        "aa_vocal = np.load(\"/content/DreamWalker/model_weights/PepTV_vocal.npy\")\n",
        "pep_decoder = tf.keras.layers.StringLookup(vocabulary=aa_vocal[1:], invert=True, oov_token='')"
      ],
      "metadata": {
        "id": "H-ZdVyakCgEv"
      },
      "execution_count": 46,
      "outputs": []
    },
    {
      "cell_type": "code",
      "source": [
        "# After GAN is trained\n",
        "def generate_sequences(generator, latent_dim, num_sequences):\n",
        "    noise = (np.random.rand(num_sequences, latent_dim)-0.5)*2\n",
        "    generated_sequences = generator.predict(noise, verbose=0)\n",
        "    return onehot2seq(generated_sequences)\n",
        "\n",
        "def onehot2seq(onehot):\n",
        "    demo_seq = tf.math.argmax(onehot, axis=2)\n",
        "    demo_seq = pep_decoder(demo_seq).numpy().astype('str')\n",
        "    demo_seq = [\"\".join(chars) for chars in demo_seq]\n",
        "    return demo_seq"
      ],
      "metadata": {
        "id": "tQP5X4fL5Q1b"
      },
      "execution_count": 47,
      "outputs": []
    },
    {
      "cell_type": "code",
      "source": [
        "num_sequences=100\n",
        "generated_seqs = generate_sequences(generator, latent_dim, num_sequences=num_sequences)\n",
        "generated_seqs"
      ],
      "metadata": {
        "colab": {
          "base_uri": "https://localhost:8080/"
        },
        "id": "xCKJZZST5fAN",
        "outputId": "766e1592-4973-402f-bdd0-fa9a1c3f505d"
      },
      "execution_count": 50,
      "outputs": [
        {
          "output_type": "execute_result",
          "data": {
            "text/plain": [
              "['MCLSIIQGGKGSR',\n",
              " 'MSTDSRAVYRVPGAAGWIAAQSWGQQS',\n",
              " 'GPVLLPESNRDCDS',\n",
              " 'MWTKLSEVNPSK',\n",
              " 'MRIKKERSRKRHDYGHKR',\n",
              " 'CAVPAGKVVGIVD',\n",
              " 'ALSSFSKNLKS',\n",
              " 'ALSYIVGNFVDIL',\n",
              " 'FWVKKWTFNRSP',\n",
              " 'CVKGVLPFVWPPGNDGWDAASAWEQ',\n",
              " 'MDTKIEGRFVEQG',\n",
              " 'MLLLYVSGTKCFGCGV',\n",
              " 'CQQGEDPVLAKEEELGVRGLEGWDTPQPAQPTE',\n",
              " 'GLVYFLLFLVIYPLAVL',\n",
              " 'MDHSLPPAFAGVRRLW',\n",
              " 'GGVKESCVNISD',\n",
              " 'ADPACSKVLRR',\n",
              " 'AYSARLKGLMIMNPLLPSLEQPRVQ',\n",
              " 'GKVIEAKFLAAK',\n",
              " 'MHRRKWKRRCF',\n",
              " 'CPGCKKKDEGKPDEEAERSRWP',\n",
              " 'AREIRGMWISKPKINPAGFRRRMDR',\n",
              " 'MLRHRVQGCSCSADVT',\n",
              " 'MEWRHDPSDKAVTDYGTGS',\n",
              " 'MPVASVIKRRVPVALAVVGAGAWTGASPFQPT',\n",
              " 'MAAFISGLYKD',\n",
              " 'LPWLDGLDSLVVTWCAPMAAGAG',\n",
              " 'MLPMYVSGPVISTSDWD',\n",
              " 'CLSIVCCAPALERSGVVCGGAP',\n",
              " 'GYWAVAKVNCSL',\n",
              " 'MLPPAVPACLGR',\n",
              " 'MNLLINGLPKDYGVSQVIKT',\n",
              " 'MLPKRAFRGRNR',\n",
              " 'CFKLASNVKIVRLVDVV',\n",
              " 'MLTEQVPCPAGV',\n",
              " 'MHQRRKKVRRC',\n",
              " 'GPVPAWKVNRR',\n",
              " 'CLVILVESHADETEEREEMQFKPPVM',\n",
              " 'MNDMIVEQEIVQDNWV',\n",
              " 'CEYAPGPKLTLDVQLLVRTKS',\n",
              " 'GPMGARERPRVRP',\n",
              " 'CPVKASIVNRVP',\n",
              " 'CNLQVEGLVVSYGESWVYKS',\n",
              " 'MLWRAGSRPRRRR',\n",
              " 'MLLPPNPPPVCGR',\n",
              " 'MRAKIITRIRNMNNISYLVIIKIPFWKIR',\n",
              " 'CEYTLVTVLAYEGDKV',\n",
              " 'MHMMRWMSDRIRFARGE',\n",
              " 'CKEHVSNPHIVQLEGWTMVS',\n",
              " 'MWTNPAARAAAAGWDRRRGGAGW',\n",
              " 'MIAPPDKPPFGGD',\n",
              " 'ALPFRSGNYVS',\n",
              " 'GAKYRKLQSKDYGISPDSSI',\n",
              " 'MYIYKWLRSNSRLIS',\n",
              " 'CEYGAAAVLAPLEHLLPRHK',\n",
              " 'LAWDMDLDPMGPPARGPLSL',\n",
              " 'GLMHCDKRPIRP',\n",
              " 'MVGLSRQFEPPTDMVGKA',\n",
              " 'MLHNIVSGGVCSGVGVC',\n",
              " 'MHPRYWSAGKCSR',\n",
              " 'GAMRDDKRPNSRPACGA',\n",
              " 'MTPVHAPVVALLRRGPVPPPALW',\n",
              " 'MLLQIVSPPVPSGGW',\n",
              " 'MLWPRSKGRCIMGCDVF',\n",
              " 'MPWGERSSWLVPSDLAWQAIQAWDDGDPPT',\n",
              " 'CNKFDVCFVVVYLVSWVYSI',\n",
              " 'ALSFISKNLNS',\n",
              " 'CWSGFDKKLLIVVALAPRAKNSDDP',\n",
              " 'LSSGFALLLLILPACANKAC',\n",
              " 'LAMQRRKSPVSRAAPPTISI',\n",
              " 'GWSGKALFVRADSEEGA',\n",
              " 'MHQRRKTGRKAR',\n",
              " 'GPSLRWFPSAGRPDVGRNRITKALAKK',\n",
              " 'LKLQVRQSPCSRPQGRVGLATPGVTQP',\n",
              " 'MPTTAAGVPPSPGNDRVDMRGG',\n",
              " 'MILGIRLFAKGHFLSRHII',\n",
              " 'MLSIRLRNHAS',\n",
              " 'MAHLPVTAPVCFGVDVTGDLLDITRPP',\n",
              " 'MEHHHVRVRSVPFCPVT',\n",
              " 'MLHHGDQGCVIQA',\n",
              " 'MKVIYKMINRIMTNIYKE',\n",
              " 'LVKQEAQSVEGVGQSGVPPALLGVIGLSPQII',\n",
              " 'ALSIRPEQRASITSR',\n",
              " 'GGVKRFFPFDEITSDSHGGIGK',\n",
              " 'CLFPRKMQRCKTAEDIVCGWIKRRRR',\n",
              " 'CPECAWKKLRIRVDDGF',\n",
              " 'MNLLGVTVDVPSGVGVAGKGGMF',\n",
              " 'MLPSFVKGCCY',\n",
              " 'MFRLTSLLPVVYGLYLPLS',\n",
              " 'MTKVRRPQSVEYTFAAQIGPKLSST',\n",
              " 'CGDKFSEVNIVD',\n",
              " 'MAHSKYSAGKYVYRL',\n",
              " 'MDRGKYLSSDRVDRG',\n",
              " 'MCLSPVPAPVGSR',\n",
              " 'MLPICAPNGAFI',\n",
              " 'GYVILPESNAAKPKDRVEEAFKW',\n",
              " 'MLRIRDVRRVSPAARVT',\n",
              " 'CWAIPAATPAALFQLIVPLVAGVNKPQPAE',\n",
              " 'GAPVAIQGGAGWATGWLG',\n",
              " 'ALQSISGKGNS']"
            ]
          },
          "metadata": {},
          "execution_count": 50
        }
      ]
    },
    {
      "cell_type": "code",
      "source": [
        "generator.save(\"/content/DreamWalker/model_weights/GANWeights/PeptideGenerator.keras\")\n",
        "discriminator.save(\"/content/DreamWalker/model_weights/GANWeights/PeptideDiscriminator.keras\")"
      ],
      "metadata": {
        "id": "ZN8JDjET5jNo"
      },
      "execution_count": 51,
      "outputs": []
    }
  ]
}