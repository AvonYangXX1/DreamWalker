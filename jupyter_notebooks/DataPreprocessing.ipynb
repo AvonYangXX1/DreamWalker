{
  "cells": [
    {
      "cell_type": "code",
      "execution_count": null,
      "metadata": {
        "id": "odlDEiPxQaWq"
      },
      "outputs": [],
      "source": [
        "import pandas as pd\n",
        "import seaborn as sns\n",
        "import matplotlib.pyplot as plt\n",
        "import numpy as np\n",
        "from sklearn.feature_extraction.text import CountVectorizer\n",
        "import tensorflow as tf\n",
        "from sklearn.model_selection import train_test_split, KFold"
      ]
    },
    {
      "cell_type": "code",
      "source": [
        "from google.colab import drive\n",
        "drive.mount('/content/drive')"
      ],
      "metadata": {
        "colab": {
          "base_uri": "https://localhost:8080/"
        },
        "id": "j9VadpyDtBaA",
        "outputId": "7d139655-130e-49b0-fced-1687da8cc0d7"
      },
      "execution_count": null,
      "outputs": [
        {
          "output_type": "stream",
          "name": "stdout",
          "text": [
            "Mounted at /content/drive\n"
          ]
        }
      ]
    },
    {
      "cell_type": "code",
      "execution_count": null,
      "metadata": {
        "id": "bYckxZ13QaWx"
      },
      "outputs": [],
      "source": [
        "class Preprocessing():\n",
        "    def __init__(self, k_size=6):\n",
        "        self.k_size = k_size\n",
        "        kmers = self.ref_kmers(\"\", self.k_size)\n",
        "        self.vectorizer = CountVectorizer(vocabulary = kmers)\n",
        "        self.seqs = []\n",
        "\n",
        "    def ref_kmers(self, current_kmer, current_depth):\n",
        "        if current_depth == 1:\n",
        "            return [current_kmer+\"a\",current_kmer+\"u\",current_kmer+\"c\",current_kmer+\"g\"]\n",
        "        else:\n",
        "            ret = self.ref_kmers(current_kmer+\"a\",current_depth-1)\n",
        "            for nt in ['u','c','g']:\n",
        "                ret += self.ref_kmers(current_kmer+nt,current_depth-1)\n",
        "            return ret\n",
        "\n",
        "    def seq2kmer(self, seq, k):\n",
        "        kmer = \"\"\n",
        "        for i in range(0,len(seq)-k,1):\n",
        "            kmer += seq[i:i+k]+\" \"\n",
        "        return kmer[:-1]\n",
        "\n",
        "    def CountKmers(self,seqs):\n",
        "        if type(seqs) in [type([]),type(pd.core.series.Series([1]))]:\n",
        "            kmer = pd.Series(seqs).apply(lambda x: self.seq2kmer(x, self.k_size))\n",
        "            transformed_X = self.vectorizer.transform(kmer).toarray()\n",
        "            return transformed_X\n",
        "        else:\n",
        "            raise ValueError(\"Invalid 'seqs' format. Expected formats are 'list' or 'pandas.core.series.Series'.\")\n",
        "\n",
        "    def ReadFASTA(self,filename,as_pd=True):\n",
        "        if filename.split(\".\")[-1] not in [\"fasta\",\"fna\",\"fa\"]:\n",
        "            raise ValueError('Invalid file format. Expected formats are [\"fasta\",\"fna\",\"fa\"].')\n",
        "        file_handle = open(filename,\"r\")\n",
        "        seqs = []\n",
        "        seqid = []\n",
        "        tmp_seq = \"\"\n",
        "        for line in file_handle:\n",
        "            if (line[0] == \">\"):\n",
        "                if tmp_seq != \"\":\n",
        "                    seqs.append(tmp_seq)\n",
        "                seqid.append(line.split(\"\\n\")[0][1:])\n",
        "                tmp_seq = \"\"\n",
        "            else:\n",
        "                tmp_seq+=line.split(\"\\n\")[0]\n",
        "        seqs.append(tmp_seq)\n",
        "        file_handle.close()\n",
        "        if as_pd:\n",
        "            fasta = {}\n",
        "            for i in range(len(seqs)):\n",
        "                fasta[seqid[i]] = seqs[i]\n",
        "            return pd.DataFrame(fasta,index=[\"sequence\"]).transpose()[\"sequence\"]\n",
        "        else:\n",
        "            return seqs, seqid"
      ]
    },
    {
      "cell_type": "markdown",
      "source": [
        "# Preprocess Marker Gene"
      ],
      "metadata": {
        "id": "ikgnfpDXAo4x"
      }
    },
    {
      "cell_type": "markdown",
      "source": [
        "## Encode"
      ],
      "metadata": {
        "id": "LFMVbQM5g-8g"
      }
    },
    {
      "cell_type": "code",
      "source": [
        "pp = Preprocessing(k_size=5)"
      ],
      "metadata": {
        "id": "TAwyqezBorao"
      },
      "execution_count": null,
      "outputs": []
    },
    {
      "cell_type": "code",
      "source": [
        "def FindLineage(header):\n",
        "    index=np.where(np.array(list(header))==\" \")[0][0]\n",
        "    return header[index+1:]\n",
        "\n",
        "def DropStrainName(lineage):\n",
        "    indices=np.where(np.array(list(lineage))==\" \")[0]\n",
        "    if len(indices) > 1:\n",
        "      return lineage[:indices[1]]\n",
        "    return lineage\n",
        "\n",
        "def grep(patterns, x):\n",
        "    for pattern in patterns:\n",
        "        if pattern in x:\n",
        "            return True\n",
        "    return False"
      ],
      "metadata": {
        "id": "Qq-1lyg_Sn5L"
      },
      "execution_count": null,
      "outputs": []
    },
    {
      "cell_type": "code",
      "source": [
        "silva_seqs = pp.ReadFASTA(\"drive/MyDrive/DreamWalker/source_data/SILVA_138.1_SSURef_NR99_tax_silva.fasta\")\n",
        "silva_seqs = pd.DataFrame(silva_seqs)\n",
        "silva_seqs[\"lineage\"] = silva_seqs.index\n",
        "silva_seqs.index = [i for i in range(silva_seqs.shape[0])]\n",
        "silva_seqs[\"lineage\"] = silva_seqs[\"lineage\"].apply(lambda x: FindLineage(x))\n",
        "silva_seqs[\"lineage\"] = silva_seqs[\"lineage\"].apply(lambda x: DropStrainName(x))\n",
        "silva_seqs[\"lineage\"] = silva_seqs[\"lineage\"].apply(lambda x: x.replace(\" \",\"_\"))\n",
        "silva_seqs[\"lineage\"] = silva_seqs[\"lineage\"].apply(lambda x: x.replace(\";\",\" \"))"
      ],
      "metadata": {
        "id": "cQbJj12HRsFY"
      },
      "execution_count": null,
      "outputs": []
    },
    {
      "cell_type": "code",
      "source": [
        "counts = silva_seqs.copy(deep=True)\n",
        "counts['domain'] = counts['lineage'].apply(lambda x: x.split(\" \")[0])\n",
        "counts = counts.query(\"domain != 'Archaea'\")\n",
        "counts['is_un'] = counts[\"lineage\"].apply(lambda x: grep([\"unidentified\", \"uncultured\"], x))\n",
        "counts = counts.query('is_un==False').groupby(\"lineage\").count().query(\"sequence>=10\")"
      ],
      "metadata": {
        "id": "bUN2_ULAJ8rO"
      },
      "execution_count": null,
      "outputs": []
    },
    {
      "cell_type": "code",
      "source": [
        "sampled_seqs = silva_seqs.query(\"lineage in @counts.index\").groupby(\"lineage\").sample(n=10, random_state=0)"
      ],
      "metadata": {
        "id": "MZZ8FZOyLKYE"
      },
      "execution_count": null,
      "outputs": []
    },
    {
      "cell_type": "code",
      "source": [
        "LineageTV = tf.keras.layers.TextVectorization(standardize=None, split=\"whitespace\",\n",
        "                                          output_mode=\"int\", name=\"LineageTextVectorizer\")\n",
        "LineageTV.adapt(sampled_seqs[\"lineage\"])\n",
        "LineageVocal = np.array(LineageTV.get_vocabulary())\n",
        "print(LineageVocal.shape)"
      ],
      "metadata": {
        "id": "Bin2Q8pWf2y7",
        "colab": {
          "base_uri": "https://localhost:8080/"
        },
        "outputId": "4c1d3149-5bc4-4146-d0a6-a3efdf557235"
      },
      "execution_count": null,
      "outputs": [
        {
          "output_type": "stream",
          "name": "stdout",
          "text": [
            "(3982,)\n"
          ]
        }
      ]
    },
    {
      "cell_type": "code",
      "source": [
        "enc_lineage = LineageTV(sampled_seqs['lineage']).numpy()\n",
        "np.save(\"drive/MyDrive/DreamWalker/model_weights/LineageTV_vocal.npy\", LineageVocal)"
      ],
      "metadata": {
        "id": "x7-wkWf9uU0N"
      },
      "execution_count": null,
      "outputs": []
    },
    {
      "cell_type": "code",
      "source": [
        "silva_kmer = pp.CountKmers(sampled_seqs[\"sequence\"])"
      ],
      "metadata": {
        "id": "B_CoPsB7avH0"
      },
      "execution_count": null,
      "outputs": []
    },
    {
      "cell_type": "code",
      "source": [
        "np.savez_compressed(\"drive/MyDrive/DreamWalker/pre_train/Cla/kmer_whole\", data=silva_kmer)\n",
        "np.savez_compressed(\"drive/MyDrive/DreamWalker/pre_train/Cla/lineage_whole\", data=enc_lineage)"
      ],
      "metadata": {
        "id": "JCJzkzVdgO3a"
      },
      "execution_count": null,
      "outputs": []
    },
    {
      "cell_type": "markdown",
      "source": [
        "## Split Data into Folds"
      ],
      "metadata": {
        "id": "zjfoFns5B8K-"
      }
    },
    {
      "cell_type": "code",
      "source": [
        "X_train, X_test, Y_train, Y_test = train_test_split(silva_kmer, enc_lineage, test_size=0.25, random_state=42)"
      ],
      "metadata": {
        "id": "Xs0mlSZxBnbE"
      },
      "execution_count": null,
      "outputs": []
    },
    {
      "cell_type": "code",
      "source": [
        "np.savez_compressed(\"drive/MyDrive/DreamWalker/pre_train/Cla/kmer_test\", data=X_test)\n",
        "np.savez_compressed(\"drive/MyDrive/DreamWalker/pre_train/Cla/lineage_test\", data=Y_test)\n",
        "np.savez_compressed(\"drive/MyDrive/DreamWalker/pre_train/Cla/kmer_train\", data=X_train)\n",
        "np.savez_compressed(\"drive/MyDrive/DreamWalker/pre_train/Cla/lineage_train\", data=Y_train)"
      ],
      "metadata": {
        "id": "hJPDiFyncdz5"
      },
      "execution_count": null,
      "outputs": []
    },
    {
      "cell_type": "code",
      "source": [
        "kf = KFold(n_splits=5, shuffle=True, random_state=0)"
      ],
      "metadata": {
        "id": "EyoAInGuCZ74"
      },
      "execution_count": null,
      "outputs": []
    },
    {
      "cell_type": "code",
      "source": [
        "for fold, (train_index, val_index) in enumerate(kf.split(X_train)):\n",
        "    x_val = X_train[val_index]\n",
        "    y_val = Y_train[val_index]\n",
        "    x_train = X_train[train_index]\n",
        "    y_train = Y_train[train_index]\n",
        "    np.savez_compressed(f\"drive/MyDrive/DreamWalker/pre_train/Cla/kmer_train_{fold}\", data=x_train)\n",
        "    np.savez_compressed(f\"drive/MyDrive/DreamWalker/pre_train/Cla/lineage_train_{fold}\", data=y_train)\n",
        "    np.savez_compressed(f\"drive/MyDrive/DreamWalker/pre_train/Cla/kmer_val_{fold}\", data=x_val)\n",
        "    np.savez_compressed(f\"drive/MyDrive/DreamWalker/pre_train/Cla/lineage_val_{fold}\", data=y_val)"
      ],
      "metadata": {
        "id": "KfAl3O0ZDv2a"
      },
      "execution_count": null,
      "outputs": []
    },
    {
      "cell_type": "markdown",
      "source": [
        "# Preprocess AMP Data"
      ],
      "metadata": {
        "id": "KiVCXvfcA1RS"
      }
    },
    {
      "cell_type": "markdown",
      "source": [
        "## Encode"
      ],
      "metadata": {
        "id": "PRlRB9bKhB1I"
      }
    },
    {
      "cell_type": "code",
      "execution_count": null,
      "metadata": {
        "id": "l9n_2H8dQaWu"
      },
      "outputs": [],
      "source": [
        "amp0 = pd.read_csv(\"drive/MyDrive/DreamWalker/source_data/AMP0_data.csv\")"
      ]
    },
    {
      "cell_type": "code",
      "execution_count": null,
      "metadata": {
        "colab": {
          "base_uri": "https://localhost:8080/",
          "height": 467
        },
        "id": "R4yuJPtHQaWv",
        "outputId": "395b6059-6ca0-4e30-927c-13cec965c2bb"
      },
      "outputs": [
        {
          "output_type": "stream",
          "name": "stdout",
          "text": [
            "MIN: 6; 95%QUANTILE: 40.0; MAX: 190\n"
          ]
        },
        {
          "output_type": "display_data",
          "data": {
            "text/plain": [
              "<Figure size 640x480 with 1 Axes>"
            ],
            "image/png": "[encoded data removed]"
          },
          "metadata": {}
        }
      ],
      "source": [
        "poslength = amp0.drop_duplicates([\"DBAASP ID\"])[\"Sequence\"].apply(lambda x: len(x))\n",
        "threshold = poslength.quantile(q=0.95)\n",
        "sns.histplot(poslength)\n",
        "plt.axvline(threshold, color='red')\n",
        "print(f\"MIN: {poslength.min()}; 95%QUANTILE: {threshold}; MAX: {poslength.max()}\")"
      ]
    },
    {
      "cell_type": "code",
      "execution_count": null,
      "metadata": {
        "id": "xmhhvub7QaWw"
      },
      "outputs": [],
      "source": [
        "pos = amp0.iloc[np.where(amp0[\"Sequence\"].apply(lambda x: len(x)) <= 40, True, False), :]\n",
        "pos = pos[['Sequence', 'Target species', 'MIC (?g/mL )']]\n",
        "pos.columns = ['Peptide', 'Target', 'MIC']\n",
        "# pos['Log2MIC'] = pos['MIC'].apply(lambda x: np.log2(x+1) ).values\n",
        "pos['tMIC'] = pos['MIC'].apply(lambda x: x/(x+16) ).values\n",
        "pos[\"Target\"] = pos[\"Target\"].apply(lambda x: x.replace(\" \",\"_\"))\n",
        "pos = pos[[\"Peptide\",\"Target\", \"tMIC\"]]\n",
        "# nomenclature"
      ]
    },
    {
      "cell_type": "markdown",
      "source": [
        "### Nomenclature"
      ],
      "metadata": {
        "id": "rOClfXVoydnv"
      }
    },
    {
      "cell_type": "code",
      "source": [
        "pos = pos.replace(\"Salmonella_typhimurium\", \"Salmonella_enterica\")\n",
        "pos = pos.replace(\"Candida_krusei\", \"Pichia_kudriavzevii\")\n",
        "pos = pos.replace(\"Salmonella_enteritidis\", \"Salmonella_enterica\")\n",
        "pos = pos.replace(\"Candida_kefyr\", \"Kluyveromyces_marxianus\")\n",
        "pos = pos.replace(\"Xanthomonas_maltophilia\", \"Stenotrophomonas_maltophilia\")\n",
        "pos = pos.replace(\"Propionibacterium_acnes\", \"Cutibacterium_acnes\")\n",
        "pos = pos.replace(\"Bacillus_dysenteriae\", \"Shigella_dysenteriae\")\n",
        "pos = pos.replace(\"Erwinia_carotovora\", \"Pectobacterium_carotovorum\")\n",
        "pos = pos.replace(\"Bacillus_pyocyaneus\", \"Pseudomonas_aeruginosa\")\n",
        "pos = pos.replace(\"Streptococcus_lactis\", \"Lactococcus_lactis\")\n",
        "pos = pos.replace(\"Pseudomonas_maltophilia\", \"Stenotrophomonas_maltophilia\")\n",
        "pos = pos.replace(\"Pasteurella_trehalosi\", \"Bibersteinia_trehalosi\")\n",
        "pos = pos.replace(\"Micrococcus_lysodeikticus\", \"Micrococcus_luteus\")\n",
        "pos = pos.replace(\"Streptococcus_faecalis\", \"Enterococcus_faecalis\")\n",
        "pos = pos.replace(\"Bacillus_globigii\", \"Bacillus_subtilis\")\n",
        "pos = pos.replace(\"Rhizobium_meliloti\", \"Sinorhizobium_meliloti\")\n",
        "pos = pos.replace(\"Salmonella_newport\", \"Salmonella_enterica\")\n",
        "pos = pos.replace(\"Corynebacterium_insidiosum\", \"Clavibacter_michiganensis\")\n",
        "pos = pos.replace(\"Candida_glabrata\", \"Nakaseomyces_glabratus\")\n",
        "pos = pos.replace(\"Salmonella_pullorum\", \"Salmonella_enterica\")\n",
        "pos = pos.replace(\"Proteus_rettgeri\", \"Providencia_rettgeri\")\n",
        "pos = pos.replace(\"Salmonella_choleraesuis\", \"Salmonella_enterica\")\n",
        "pos = pos.replace(\"Salmonella_typhi\", \"Salmonella_enterica\")\n",
        "pos = pos.replace(\"Streptococcus_bovis\", \"Streptococcus_equinus\")\n",
        "pos = pos.replace(\"Salmonella_paratyphi\", \"Salmonella_enterica\")\n",
        "pos = pos.replace(\"Aeromonas_punctata\", \"Aeromonas_caviae\")\n",
        "pos = pos.replace(\"Pseudomonas_cepacia\", \"Burkholderia_cepacia\")\n",
        "pos = pos.replace(\"Salmonella_arizonae\", \"Salmonella_enterica\")\n",
        "pos = pos.replace(\"Candida_lusitaniae\", \"Clavispora_lusitaniae\")\n",
        "pos = pos.replace(\"Candida_utilis\", \"Cyberlindnera_jadinii\")\n",
        "pos = pos.replace(\"Pseudomonas_solanacearum\", \"Ralstonia_solanacearum\")\n",
        "pos = pos.replace(\"Enterobacter_amnigenus\", \"Lelliottia_amnigena\")\n",
        "pos = pos.replace(\"Streptococcus_sanguis\", \"Streptococcus_sanguinis\")\n",
        "pos = pos.replace(\"Salmonella_minnesota\", \"Salmonella_enterica\")\n",
        "pos = pos.replace(\"Brevibacterium_stationis\", \"Corynebacterium_stationis\")\n",
        "pos = pos.replace(\"Septoria_nodorum\", \"Parastagonospora_nodorum\")\n",
        "pos = pos.replace(\"Candida_guilliermondii\", \"Meyerozyma_guilliermondii\")\n",
        "pos = pos.replace(\"Salmonella_Paratyphi\", \"Salmonella_enterica\")\n",
        "pos = pos.replace(\"Candida_lipolytica\", \"Yarrowia_lipolytica\")\n",
        "pos = pos.replace(\"Fusarium_moniliforme\", \"Fusarium_verticillioides\")\n",
        "pos = pos.replace(\"Salmonella_anatum\", \"Salmonella_enterica\")\n",
        "# pos = pos.replace(\"Stemphylium\", \"Stemphylium_vesicarium\")\n",
        "# pos = pos.replace(\"Listonella_\", \"Listonella_anguillarum\")\n",
        "pos = pos.replace(\"Carnobacterium_piscicola\", \"Carnobacterium_maltaromaticum\")\n",
        "pos = pos.replace(\"Sarcina_lutea\", \"Micrococcus_luteus\")\n",
        "pos = pos.replace(\"Listeria_denitrificans\", \"Jonesia_denitrificans\")\n",
        "pos = pos.replace(\"Micrococcus_scarlatinae\", \"Streptococcus_pyogenes\")\n",
        "pos = pos.replace(\"Chryseobacterium_meningosepticum\", \"Elizabethkingia_meningoseptica\")\n",
        "pos = pos.replace(\"Klebsiella_ornithinolytica\", \"Raoultella_ornithinolytica\")\n",
        "pos = pos.replace(\"Micrococcus_nishinomiyaensis\", \"Dermacoccus_nishinomiyaensis\")\n",
        "pos = pos.replace(\"Actinobacillus_actinomycetemcomitans\", \"Aggregatibacter_actinomycetemcomitans\")\n",
        "pos = pos.replace(\"Streptococcus_equisimilis\", \"Streptococcus_dysgalactiae\")\n",
        "pos = pos.replace(\"Klebsiella_ozaenae\", \"Klebsiella_pneumoniae\")\n",
        "pos = pos.replace(\"Corynebacterium_michiganense\", \"Clavibacter_michiganensis\")\n",
        "pos = pos.replace(\"Peptostreptococcus_micros\", \"Parvimonas_micra\")\n",
        "pos = pos.replace(\"Cytophaga_drobachiensis\", \"Zobellia_galactanivorans\")\n",
        "pos = pos.replace(\"Pseudomonas_acidovorans\", \"Delftia_acidovorans\")\n",
        "pos = pos.replace(\"Bacillus_sphaericus\", \"Lysinibacillus_sphaericus\")\n",
        "pos = pos.replace(\"Haemophilus_Influenzae\", \"Haemophilus_influenzae\")\n",
        "pos = pos.replace(\"Haemophilus_ducreyi\", \"[Haemophilus]_ducreyi\")"
      ],
      "metadata": {
        "id": "UH5P4K97ygUo"
      },
      "execution_count": null,
      "outputs": []
    },
    {
      "cell_type": "markdown",
      "source": [
        "### Inspect distribution"
      ],
      "metadata": {
        "id": "Am2OYHBzyiH1"
      }
    },
    {
      "cell_type": "code",
      "source": [
        "pos"
      ],
      "metadata": {
        "colab": {
          "base_uri": "https://localhost:8080/",
          "height": 424
        },
        "id": "4SvUIa-4uqme",
        "outputId": "af6f47c9-f0f8-4364-d419-1e50a4697b3e"
      },
      "execution_count": null,
      "outputs": [
        {
          "output_type": "execute_result",
          "data": {
            "text/plain": [
              "                           Peptide                  Target      tMIC\n",
              "0      GLPRKILCAIAKKKGKAKGPLKLVCKA       Bacillus_subtilis  0.081348\n",
              "1      GLPRKILCAIAKKKGKAKGPLKLVCKA   Staphylococcus_aureus  0.946553\n",
              "2      GLPRKILCAIAKKKGKAKGPLKLVCKA        Escherichia_coli  0.906896\n",
              "3      GLPRKILCAIAKKKGKAKGPLKLVCKA  Pseudomonas_aeruginosa  0.920075\n",
              "4      GLPRKILCAIAKKKGKAKGPLKLVCKA        Candida_albicans  0.925357\n",
              "...                            ...                     ...       ...\n",
              "30707  GLPRKILCAIAKKKGKCKGPLKLVCKC        Escherichia_coli  0.883811\n",
              "30708  GLPRKILCAIAKKKGKCKGPLKLVCKC  Pseudomonas_aeruginosa  0.947674\n",
              "30709  GLPRKILCAIAKKKGKCKGPLKLVCKC        Candida_albicans  0.819095\n",
              "30710                     sHkWlWlW   Staphylococcus_aureus  0.384615\n",
              "30711                     sHkWlWlW        Escherichia_coli  0.862069\n",
              "\n",
              "[29126 rows x 3 columns]"
            ],
            "text/html": [
              "\n",
              "  <div id=\"df-d8a371bb-4f56-4ff7-bbe6-b0a4d5f19c47\" class=\"colab-df-container\">\n",
              "    <div>\n",
              "<style scoped>\n",
              "    .dataframe tbody tr th:only-of-type {\n",
              "        vertical-align: middle;\n",
              "    }\n",
              "\n",
              "    .dataframe tbody tr th {\n",
              "        vertical-align: top;\n",
              "    }\n",
              "\n",
              "    .dataframe thead th {\n",
              "        text-align: right;\n",
              "    }\n",
              "</style>\n",
              "<table border=\"1\" class=\"dataframe\">\n",
              "  <thead>\n",
              "    <tr style=\"text-align: right;\">\n",
              "      <th></th>\n",
              "      <th>Peptide</th>\n",
              "      <th>Target</th>\n",
              "      <th>tMIC</th>\n",
              "    </tr>\n",
              "  </thead>\n",
              "  <tbody>\n",
              "    <tr>\n",
              "      <th>0</th>\n",
              "      <td>GLPRKILCAIAKKKGKAKGPLKLVCKA</td>\n",
              "      <td>Bacillus_subtilis</td>\n",
              "      <td>0.081348</td>\n",
              "    </tr>\n",
              "    <tr>\n",
              "      <th>1</th>\n",
              "      <td>GLPRKILCAIAKKKGKAKGPLKLVCKA</td>\n",
              "      <td>Staphylococcus_aureus</td>\n",
              "      <td>0.946553</td>\n",
              "    </tr>\n",
              "    <tr>\n",
              "      <th>2</th>\n",
              "      <td>GLPRKILCAIAKKKGKAKGPLKLVCKA</td>\n",
              "      <td>Escherichia_coli</td>\n",
              "      <td>0.906896</td>\n",
              "    </tr>\n",
              "    <tr>\n",
              "      <th>3</th>\n",
              "      <td>GLPRKILCAIAKKKGKAKGPLKLVCKA</td>\n",
              "      <td>Pseudomonas_aeruginosa</td>\n",
              "      <td>0.920075</td>\n",
              "    </tr>\n",
              "    <tr>\n",
              "      <th>4</th>\n",
              "      <td>GLPRKILCAIAKKKGKAKGPLKLVCKA</td>\n",
              "      <td>Candida_albicans</td>\n",
              "      <td>0.925357</td>\n",
              "    </tr>\n",
              "    <tr>\n",
              "      <th>...</th>\n",
              "      <td>...</td>\n",
              "      <td>...</td>\n",
              "      <td>...</td>\n",
              "    </tr>\n",
              "    <tr>\n",
              "      <th>30707</th>\n",
              "      <td>GLPRKILCAIAKKKGKCKGPLKLVCKC</td>\n",
              "      <td>Escherichia_coli</td>\n",
              "      <td>0.883811</td>\n",
              "    </tr>\n",
              "    <tr>\n",
              "      <th>30708</th>\n",
              "      <td>GLPRKILCAIAKKKGKCKGPLKLVCKC</td>\n",
              "      <td>Pseudomonas_aeruginosa</td>\n",
              "      <td>0.947674</td>\n",
              "    </tr>\n",
              "    <tr>\n",
              "      <th>30709</th>\n",
              "      <td>GLPRKILCAIAKKKGKCKGPLKLVCKC</td>\n",
              "      <td>Candida_albicans</td>\n",
              "      <td>0.819095</td>\n",
              "    </tr>\n",
              "    <tr>\n",
              "      <th>30710</th>\n",
              "      <td>sHkWlWlW</td>\n",
              "      <td>Staphylococcus_aureus</td>\n",
              "      <td>0.384615</td>\n",
              "    </tr>\n",
              "    <tr>\n",
              "      <th>30711</th>\n",
              "      <td>sHkWlWlW</td>\n",
              "      <td>Escherichia_coli</td>\n",
              "      <td>0.862069</td>\n",
              "    </tr>\n",
              "  </tbody>\n",
              "</table>\n",
              "<p>29126 rows × 3 columns</p>\n",
              "</div>\n",
              "    <div class=\"colab-df-buttons\">\n",
              "\n",
              "  <div class=\"colab-df-container\">\n",
              "    <button class=\"colab-df-convert\" onclick=\"convertToInteractive('df-d8a371bb-4f56-4ff7-bbe6-b0a4d5f19c47')\"\n",
              "            title=\"Convert this dataframe to an interactive table.\"\n",
              "            style=\"display:none;\">\n",
              "\n",
              "  <svg xmlns=\"http://www.w3.org/2000/svg\" height=\"24px\" viewBox=\"0 -960 960 960\">\n",
              "    <path d=\"M120-120v-720h720v720H120Zm60-500h600v-160H180v160Zm220 220h160v-160H400v160Zm0 220h160v-160H400v160ZM180-400h160v-160H180v160Zm440 0h160v-160H620v160ZM180-180h160v-160H180v160Zm440 0h160v-160H620v160Z\"/>\n",
              "  </svg>\n",
              "    </button>\n",
              "\n",
              "  <style>\n",
              "    .colab-df-container {\n",
              "      display:flex;\n",
              "      gap: 12px;\n",
              "    }\n",
              "\n",
              "    .colab-df-convert {\n",
              "      background-color: #E8F0FE;\n",
              "      border: none;\n",
              "      border-radius: 50%;\n",
              "      cursor: pointer;\n",
              "      display: none;\n",
              "      fill: #1967D2;\n",
              "      height: 32px;\n",
              "      padding: 0 0 0 0;\n",
              "      width: 32px;\n",
              "    }\n",
              "\n",
              "    .colab-df-convert:hover {\n",
              "      background-color: #E2EBFA;\n",
              "      box-shadow: 0px 1px 2px rgba(60, 64, 67, 0.3), 0px 1px 3px 1px rgba(60, 64, 67, 0.15);\n",
              "      fill: #174EA6;\n",
              "    }\n",
              "\n",
              "    .colab-df-buttons div {\n",
              "      margin-bottom: 4px;\n",
              "    }\n",
              "\n",
              "    [theme=dark] .colab-df-convert {\n",
              "      background-color: #3B4455;\n",
              "      fill: #D2E3FC;\n",
              "    }\n",
              "\n",
              "    [theme=dark] .colab-df-convert:hover {\n",
              "      background-color: #434B5C;\n",
              "      box-shadow: 0px 1px 3px 1px rgba(0, 0, 0, 0.15);\n",
              "      filter: drop-shadow(0px 1px 2px rgba(0, 0, 0, 0.3));\n",
              "      fill: #FFFFFF;\n",
              "    }\n",
              "  </style>\n",
              "\n",
              "    <script>\n",
              "      const buttonEl =\n",
              "        document.querySelector('#df-d8a371bb-4f56-4ff7-bbe6-b0a4d5f19c47 button.colab-df-convert');\n",
              "      buttonEl.style.display =\n",
              "        google.colab.kernel.accessAllowed ? 'block' : 'none';\n",
              "\n",
              "      async function convertToInteractive(key) {\n",
              "        const element = document.querySelector('#df-d8a371bb-4f56-4ff7-bbe6-b0a4d5f19c47');\n",
              "        const dataTable =\n",
              "          await google.colab.kernel.invokeFunction('convertToInteractive',\n",
              "                                                    [key], {});\n",
              "        if (!dataTable) return;\n",
              "\n",
              "        const docLinkHtml = 'Like what you see? Visit the ' +\n",
              "          '<a target=\"_blank\" href=https://colab.research.google.com/notebooks/data_table.ipynb>data table notebook</a>'\n",
              "          + ' to learn more about interactive tables.';\n",
              "        element.innerHTML = '';\n",
              "        dataTable['output_type'] = 'display_data';\n",
              "        await google.colab.output.renderOutput(dataTable, element);\n",
              "        const docLink = document.createElement('div');\n",
              "        docLink.innerHTML = docLinkHtml;\n",
              "        element.appendChild(docLink);\n",
              "      }\n",
              "    </script>\n",
              "  </div>\n",
              "\n",
              "\n",
              "<div id=\"df-48544083-e519-40f0-8038-087ab549c87c\">\n",
              "  <button class=\"colab-df-quickchart\" onclick=\"quickchart('df-48544083-e519-40f0-8038-087ab549c87c')\"\n",
              "            title=\"Suggest charts\"\n",
              "            style=\"display:none;\">\n",
              "\n",
              "<svg xmlns=\"http://www.w3.org/2000/svg\" height=\"24px\"viewBox=\"0 0 24 24\"\n",
              "     width=\"24px\">\n",
              "    <g>\n",
              "        <path d=\"M19 3H5c-1.1 0-2 .9-2 2v14c0 1.1.9 2 2 2h14c1.1 0 2-.9 2-2V5c0-1.1-.9-2-2-2zM9 17H7v-7h2v7zm4 0h-2V7h2v10zm4 0h-2v-4h2v4z\"/>\n",
              "    </g>\n",
              "</svg>\n",
              "  </button>\n",
              "\n",
              "<style>\n",
              "  .colab-df-quickchart {\n",
              "      --bg-color: #E8F0FE;\n",
              "      --fill-color: #1967D2;\n",
              "      --hover-bg-color: #E2EBFA;\n",
              "      --hover-fill-color: #174EA6;\n",
              "      --disabled-fill-color: #AAA;\n",
              "      --disabled-bg-color: #DDD;\n",
              "  }\n",
              "\n",
              "  [theme=dark] .colab-df-quickchart {\n",
              "      --bg-color: #3B4455;\n",
              "      --fill-color: #D2E3FC;\n",
              "      --hover-bg-color: #434B5C;\n",
              "      --hover-fill-color: #FFFFFF;\n",
              "      --disabled-bg-color: #3B4455;\n",
              "      --disabled-fill-color: #666;\n",
              "  }\n",
              "\n",
              "  .colab-df-quickchart {\n",
              "    background-color: var(--bg-color);\n",
              "    border: none;\n",
              "    border-radius: 50%;\n",
              "    cursor: pointer;\n",
              "    display: none;\n",
              "    fill: var(--fill-color);\n",
              "    height: 32px;\n",
              "    padding: 0;\n",
              "    width: 32px;\n",
              "  }\n",
              "\n",
              "  .colab-df-quickchart:hover {\n",
              "    background-color: var(--hover-bg-color);\n",
              "    box-shadow: 0 1px 2px rgba(60, 64, 67, 0.3), 0 1px 3px 1px rgba(60, 64, 67, 0.15);\n",
              "    fill: var(--button-hover-fill-color);\n",
              "  }\n",
              "\n",
              "  .colab-df-quickchart-complete:disabled,\n",
              "  .colab-df-quickchart-complete:disabled:hover {\n",
              "    background-color: var(--disabled-bg-color);\n",
              "    fill: var(--disabled-fill-color);\n",
              "    box-shadow: none;\n",
              "  }\n",
              "\n",
              "  .colab-df-spinner {\n",
              "    border: 2px solid var(--fill-color);\n",
              "    border-color: transparent;\n",
              "    border-bottom-color: var(--fill-color);\n",
              "    animation:\n",
              "      spin 1s steps(1) infinite;\n",
              "  }\n",
              "\n",
              "  @keyframes spin {\n",
              "    0% {\n",
              "      border-color: transparent;\n",
              "      border-bottom-color: var(--fill-color);\n",
              "      border-left-color: var(--fill-color);\n",
              "    }\n",
              "    20% {\n",
              "      border-color: transparent;\n",
              "      border-left-color: var(--fill-color);\n",
              "      border-top-color: var(--fill-color);\n",
              "    }\n",
              "    30% {\n",
              "      border-color: transparent;\n",
              "      border-left-color: var(--fill-color);\n",
              "      border-top-color: var(--fill-color);\n",
              "      border-right-color: var(--fill-color);\n",
              "    }\n",
              "    40% {\n",
              "      border-color: transparent;\n",
              "      border-right-color: var(--fill-color);\n",
              "      border-top-color: var(--fill-color);\n",
              "    }\n",
              "    60% {\n",
              "      border-color: transparent;\n",
              "      border-right-color: var(--fill-color);\n",
              "    }\n",
              "    80% {\n",
              "      border-color: transparent;\n",
              "      border-right-color: var(--fill-color);\n",
              "      border-bottom-color: var(--fill-color);\n",
              "    }\n",
              "    90% {\n",
              "      border-color: transparent;\n",
              "      border-bottom-color: var(--fill-color);\n",
              "    }\n",
              "  }\n",
              "</style>\n",
              "\n",
              "  <script>\n",
              "    async function quickchart(key) {\n",
              "      const quickchartButtonEl =\n",
              "        document.querySelector('#' + key + ' button');\n",
              "      quickchartButtonEl.disabled = true;  // To prevent multiple clicks.\n",
              "      quickchartButtonEl.classList.add('colab-df-spinner');\n",
              "      try {\n",
              "        const charts = await google.colab.kernel.invokeFunction(\n",
              "            'suggestCharts', [key], {});\n",
              "      } catch (error) {\n",
              "        console.error('Error during call to suggestCharts:', error);\n",
              "      }\n",
              "      quickchartButtonEl.classList.remove('colab-df-spinner');\n",
              "      quickchartButtonEl.classList.add('colab-df-quickchart-complete');\n",
              "    }\n",
              "    (() => {\n",
              "      let quickchartButtonEl =\n",
              "        document.querySelector('#df-48544083-e519-40f0-8038-087ab549c87c button');\n",
              "      quickchartButtonEl.style.display =\n",
              "        google.colab.kernel.accessAllowed ? 'block' : 'none';\n",
              "    })();\n",
              "  </script>\n",
              "</div>\n",
              "\n",
              "  <div id=\"id_de89757a-339d-42f6-9a0a-6d1629efe8f9\">\n",
              "    <style>\n",
              "      .colab-df-generate {\n",
              "        background-color: #E8F0FE;\n",
              "        border: none;\n",
              "        border-radius: 50%;\n",
              "        cursor: pointer;\n",
              "        display: none;\n",
              "        fill: #1967D2;\n",
              "        height: 32px;\n",
              "        padding: 0 0 0 0;\n",
              "        width: 32px;\n",
              "      }\n",
              "\n",
              "      .colab-df-generate:hover {\n",
              "        background-color: #E2EBFA;\n",
              "        box-shadow: 0px 1px 2px rgba(60, 64, 67, 0.3), 0px 1px 3px 1px rgba(60, 64, 67, 0.15);\n",
              "        fill: #174EA6;\n",
              "      }\n",
              "\n",
              "      [theme=dark] .colab-df-generate {\n",
              "        background-color: #3B4455;\n",
              "        fill: #D2E3FC;\n",
              "      }\n",
              "\n",
              "      [theme=dark] .colab-df-generate:hover {\n",
              "        background-color: #434B5C;\n",
              "        box-shadow: 0px 1px 3px 1px rgba(0, 0, 0, 0.15);\n",
              "        filter: drop-shadow(0px 1px 2px rgba(0, 0, 0, 0.3));\n",
              "        fill: #FFFFFF;\n",
              "      }\n",
              "    </style>\n",
              "    <button class=\"colab-df-generate\" onclick=\"generateWithVariable('pos')\"\n",
              "            title=\"Generate code using this dataframe.\"\n",
              "            style=\"display:none;\">\n",
              "\n",
              "  <svg xmlns=\"http://www.w3.org/2000/svg\" height=\"24px\"viewBox=\"0 0 24 24\"\n",
              "       width=\"24px\">\n",
              "    <path d=\"M7,19H8.4L18.45,9,17,7.55,7,17.6ZM5,21V16.75L18.45,3.32a2,2,0,0,1,2.83,0l1.4,1.43a1.91,1.91,0,0,1,.58,1.4,1.91,1.91,0,0,1-.58,1.4L9.25,21ZM18.45,9,17,7.55Zm-12,3A5.31,5.31,0,0,0,4.9,8.1,5.31,5.31,0,0,0,1,6.5,5.31,5.31,0,0,0,4.9,4.9,5.31,5.31,0,0,0,6.5,1,5.31,5.31,0,0,0,8.1,4.9,5.31,5.31,0,0,0,12,6.5,5.46,5.46,0,0,0,6.5,12Z\"/>\n",
              "  </svg>\n",
              "    </button>\n",
              "    <script>\n",
              "      (() => {\n",
              "      const buttonEl =\n",
              "        document.querySelector('#id_de89757a-339d-42f6-9a0a-6d1629efe8f9 button.colab-df-generate');\n",
              "      buttonEl.style.display =\n",
              "        google.colab.kernel.accessAllowed ? 'block' : 'none';\n",
              "\n",
              "      buttonEl.onclick = () => {\n",
              "        google.colab.notebook.generateWithVariable('pos');\n",
              "      }\n",
              "      })();\n",
              "    </script>\n",
              "  </div>\n",
              "\n",
              "    </div>\n",
              "  </div>\n"
            ]
          },
          "metadata": {},
          "execution_count": 7
        }
      ]
    },
    {
      "cell_type": "code",
      "execution_count": null,
      "metadata": {
        "colab": {
          "base_uri": "https://localhost:8080/",
          "height": 467
        },
        "id": "knp9HHp2QaWx",
        "outputId": "d44cb600-9d05-4153-e66a-ee602edbc631"
      },
      "outputs": [
        {
          "output_type": "execute_result",
          "data": {
            "text/plain": [
              "<Axes: xlabel='tMIC', ylabel='Count'>"
            ]
          },
          "metadata": {},
          "execution_count": 8
        },
        {
          "output_type": "display_data",
          "data": {
            "text/plain": [
              "<Figure size 640x480 with 1 Axes>"
            ],
            "image/png": "[encoded data removed]"
          },
          "metadata": {}
        }
      ],
      "source": [
        "sns.histplot(pos[\"tMIC\"])"
      ]
    },
    {
      "cell_type": "code",
      "source": [
        "x = np.linspace(1, 2000)\n",
        "y1 = x / (16 + np.abs(x) )\n",
        "y2 = 0.09*np.log2(x)\n",
        "graph, axs = plt.subplots(1, 1)\n",
        "axs.plot(x, y1, color='black', label='MIC / (MIC + 16)')\n",
        "axs.plot(x, y2, color='blue', label='0.09 * Log2 MIC')\n",
        "axs.legend()\n",
        "# axs.invert_xaxis()"
      ],
      "metadata": {
        "colab": {
          "base_uri": "https://localhost:8080/",
          "height": 448
        },
        "id": "6gRLIsjrt9VE",
        "outputId": "1459e19e-7d63-415f-9ad2-f102883bd1a8"
      },
      "execution_count": null,
      "outputs": [
        {
          "output_type": "execute_result",
          "data": {
            "text/plain": [
              "<matplotlib.legend.Legend at 0x7ad5b14a5b70>"
            ]
          },
          "metadata": {},
          "execution_count": 16
        },
        {
          "output_type": "display_data",
          "data": {
            "text/plain": [
              "<Figure size 640x480 with 1 Axes>"
            ],
            "image/png": "[encoded data removed]"
          },
          "metadata": {}
        }
      ]
    },
    {
      "cell_type": "code",
      "source": [
        "128/(128+16)"
      ],
      "metadata": {
        "colab": {
          "base_uri": "https://localhost:8080/"
        },
        "id": "xkU9PQclHHLU",
        "outputId": "bc862d83-e81c-4dfe-fbd6-0fae1013fad3"
      },
      "execution_count": null,
      "outputs": [
        {
          "output_type": "execute_result",
          "data": {
            "text/plain": [
              "0.8888888888888888"
            ]
          },
          "metadata": {},
          "execution_count": 17
        }
      ]
    },
    {
      "cell_type": "code",
      "source": [
        "neg = []\n",
        "tmp = pp.ReadFASTA(\"drive/MyDrive/DreamWalker/source_data/AMPlify_non_AMP_train_imbalanced.fa\")\n",
        "neg.append(tmp)\n",
        "tmp = pp.ReadFASTA(\"drive/MyDrive/DreamWalker/source_data/AMPlify_non_AMP_test_imbalanced.fa\")\n",
        "neg.append(tmp)\n",
        "neg = pd.concat(neg).reset_index()\n",
        "neg[\"length\"] = neg[\"sequence\"].apply(lambda x: len(x))\n",
        "neg = neg.query('length>=6 & length<=40')\n",
        "neg = neg[[\"sequence\"]].sample(n=pos.shape[0], random_state=0, replace=True).reset_index(drop=True)\n",
        "neg.columns=['Peptide']\n",
        "n_sample = pos.query(\"tMIC<=0.89\").shape[0] - pos.query(\"tMIC>0.89\").shape[0]\n",
        "print(n_sample)\n",
        "neg[\"Target\"] = pos[\"Target\"].sample(n=n_sample, random_state=0, replace=True).reset_index(drop=True)\n",
        "neg[\"tMIC\"] = 1.0"
      ],
      "metadata": {
        "id": "PiEtIrXDqXJ7",
        "colab": {
          "base_uri": "https://localhost:8080/"
        },
        "outputId": "24eea764-1e89-440e-a071-bfdeb31f0bf7"
      },
      "execution_count": null,
      "outputs": [
        {
          "output_type": "stream",
          "name": "stdout",
          "text": [
            "25506\n"
          ]
        }
      ]
    },
    {
      "cell_type": "code",
      "source": [
        "full_amp = pd.concat([neg, pos], axis=0).sample(frac=1, random_state=0).reset_index(drop=True)"
      ],
      "metadata": {
        "id": "0Lqv80pAq5kN"
      },
      "execution_count": null,
      "outputs": []
    },
    {
      "cell_type": "code",
      "source": [
        "marker_seqs = silva_seqs.copy(deep=True)\n",
        "marker_seqs.columns = [\"Marker\", \"lineage\"]\n",
        "marker_seqs[\"Species\"] = marker_seqs[\"lineage\"].apply(lambda x: x.split(\" \")[-1])\n",
        "marker_seqs = marker_seqs.drop_duplicates(\"Species\")\n",
        "marker_seqs = marker_seqs.drop(columns=[\"lineage\"])\n",
        "manual_collection = pp.ReadFASTA(\"drive/MyDrive/DreamWalker/source_data/manual_collection.fasta\")\n",
        "manual_collection = pd.DataFrame(manual_collection)\n",
        "manual_collection[\"Species\"] = manual_collection.index\n",
        "manual_collection.columns=[\"Marker\", \"Species\"]\n",
        "marker_seqs = pd.concat([marker_seqs, manual_collection])"
      ],
      "metadata": {
        "id": "sQg5-ifaygxk"
      },
      "execution_count": null,
      "outputs": []
    },
    {
      "cell_type": "code",
      "source": [
        "merged = full_amp.merge(marker_seqs, left_on=\"Target\", right_on=\"Species\", how=\"left\").dropna()\n",
        "merged = merged[[\"Peptide\", \"Target\", \"Marker\", \"tMIC\"]]"
      ],
      "metadata": {
        "id": "bK5hWt-Oy3Tm"
      },
      "execution_count": null,
      "outputs": []
    },
    {
      "cell_type": "code",
      "source": [
        "merged['Target'].value_counts()"
      ],
      "metadata": {
        "colab": {
          "base_uri": "https://localhost:8080/"
        },
        "id": "Dwl4NiVhA8_V",
        "outputId": "a6519028-f9b5-4a0c-baa2-272036be82fe"
      },
      "execution_count": null,
      "outputs": [
        {
          "output_type": "execute_result",
          "data": {
            "text/plain": [
              "Escherichia_coli                  8116\n",
              "Staphylococcus_aureus             7529\n",
              "Pseudomonas_aeruginosa            5616\n",
              "Bacillus_subtilis                 3345\n",
              "Candida_albicans                  3253\n",
              "                                  ... \n",
              "Candida_viswanathii                  1\n",
              "Yarrowia_lipolytica                  1\n",
              "Lysinibacillus_sphaericus            1\n",
              "Burkholderia_stabilis                1\n",
              "Geobacillus_stearothermophilus       1\n",
              "Name: Target, Length: 261, dtype: int64"
            ]
          },
          "metadata": {},
          "execution_count": 22
        }
      ]
    },
    {
      "cell_type": "code",
      "source": [
        "PepTV = tf.keras.layers.TextVectorization(standardize=None, split=\"character\",\n",
        "                                          output_sequence_length=40,\n",
        "                                          output_mode=\"int\", name=\"PepTextVectorizer\")"
      ],
      "metadata": {
        "id": "XI8xRsVdFg_T"
      },
      "execution_count": null,
      "outputs": []
    },
    {
      "cell_type": "code",
      "source": [
        "PepTV.adapt(pos[\"Peptide\"])\n",
        "enc_amp = PepTV(merged[\"Peptide\"]).numpy()\n",
        "PepVocal = np.array(PepTV.get_vocabulary())\n",
        "print(PepVocal.shape)\n",
        "np.save(\"drive/MyDrive/DreamWalker/model_weights/PepTV_vocal.npy\", PepVocal)"
      ],
      "metadata": {
        "id": "NICcYYedjYXW",
        "colab": {
          "base_uri": "https://localhost:8080/"
        },
        "outputId": "5fba0c5d-458e-4fc0-d203-a5e7697d37c6"
      },
      "execution_count": null,
      "outputs": [
        {
          "output_type": "stream",
          "name": "stdout",
          "text": [
            "(43,)\n"
          ]
        }
      ]
    },
    {
      "cell_type": "code",
      "source": [
        "marker_amp_kmer = pp.CountKmers(merged[\"Marker\"])"
      ],
      "metadata": {
        "id": "35WQWgR_j2eu"
      },
      "execution_count": null,
      "outputs": []
    },
    {
      "cell_type": "code",
      "source": [
        "merged.to_csv(\"drive/MyDrive/DreamWalker/tidy_data/PeptideMarkerMIC.csv\", index=False)\n",
        "np.savez_compressed(\"drive/MyDrive/DreamWalker/tidy_data/target_whole\", data=marker_amp_kmer)\n",
        "np.savez_compressed(\"drive/MyDrive/DreamWalker/tidy_data/pep_whole\", data=enc_amp)\n",
        "np.savez_compressed(\"drive/MyDrive/DreamWalker/tidy_data/label_whole\", data=merged[\"tMIC\"])"
      ],
      "metadata": {
        "id": "C_zHLeX5icnm"
      },
      "execution_count": null,
      "outputs": []
    },
    {
      "cell_type": "markdown",
      "source": [
        "## Split into Folds"
      ],
      "metadata": {
        "id": "_X7tA4LngyqC"
      }
    },
    {
      "cell_type": "code",
      "source": [
        "kf = KFold(n_splits=4, shuffle=True, random_state=0)\n",
        "_, (cv_index, test_index) = list(enumerate(kf.split(enc_amp)))[0]\n",
        "pep_cv = enc_amp[cv_index]\n",
        "target_cv = marker_amp_kmer[cv_index]\n",
        "label_cv = merged[\"tMIC\"].values[cv_index]\n",
        "pep_test = enc_amp[test_index]\n",
        "target_test = marker_amp_kmer[test_index]\n",
        "label_test = merged[\"tMIC\"].values[test_index]"
      ],
      "metadata": {
        "id": "cAZAJ_ANgxYZ"
      },
      "execution_count": null,
      "outputs": []
    },
    {
      "cell_type": "code",
      "source": [
        "np.savez_compressed(\"drive/MyDrive/DreamWalker/tidy_data/pep_test\", data=pep_test)\n",
        "np.savez_compressed(\"drive/MyDrive/DreamWalker/tidy_data/target_test\", data=target_test)\n",
        "np.savez_compressed(\"drive/MyDrive/DreamWalker/tidy_data/label_test\", data=label_test)\n",
        "np.savez_compressed(\"drive/MyDrive/DreamWalker/tidy_data/pep_cv\", data=pep_cv)\n",
        "np.savez_compressed(\"drive/MyDrive/DreamWalker/tidy_data/target_cv\", data=target_cv)\n",
        "np.savez_compressed(\"drive/MyDrive/DreamWalker/tidy_data/label_cv\", data=label_cv)"
      ],
      "metadata": {
        "id": "a7j8QswKgxYa"
      },
      "execution_count": null,
      "outputs": []
    },
    {
      "cell_type": "code",
      "source": [
        "kf = KFold(n_splits=5, shuffle=True, random_state=0)"
      ],
      "metadata": {
        "id": "PeUcOMe8gxYa"
      },
      "execution_count": null,
      "outputs": []
    },
    {
      "cell_type": "code",
      "source": [
        "for i, (train_index, val_index) in enumerate(kf.split(pep_cv)):\n",
        "    pep_train = pep_cv[train_index]\n",
        "    target_train = target_cv[train_index]\n",
        "    label_train = label_cv[train_index]\n",
        "    pep_val = pep_cv[val_index]\n",
        "    target_val = target_cv[val_index]\n",
        "    label_val = label_cv[val_index]\n",
        "    np.savez_compressed(f\"drive/MyDrive/DreamWalker/tidy_data/pep_train_{i}\", data=pep_train)\n",
        "    np.savez_compressed(f\"drive/MyDrive/DreamWalker/tidy_data/target_train_{i}\", data=target_train)\n",
        "    np.savez_compressed(f\"drive/MyDrive/DreamWalker/tidy_data/label_train_{i}\", data=label_train)\n",
        "    np.savez_compressed(f\"drive/MyDrive/DreamWalker/tidy_data/pep_val_{i}\", data=pep_val)\n",
        "    np.savez_compressed(f\"drive/MyDrive/DreamWalker/tidy_data/target_val_{i}\", data=target_val)\n",
        "    np.savez_compressed(f\"drive/MyDrive/DreamWalker/tidy_data/label_val_{i}\", data=label_val)"
      ],
      "metadata": {
        "id": "rNS0ZK9EgxYa"
      },
      "execution_count": null,
      "outputs": []
    },
    {
      "cell_type": "markdown",
      "source": [
        "# Preprocess Peptides for Pre-training"
      ],
      "metadata": {
        "id": "UsN3cpkUA-eS"
      }
    },
    {
      "cell_type": "code",
      "source": [
        "uniprot_seqs, uniprot_header = pp.ReadFASTA(\"drive/MyDrive/DreamWalker/source_data/uniref_length_6_TO_40_AND_identity_0_2024_01_10.fasta\", as_pd=False)"
      ],
      "metadata": {
        "id": "mHM-3YY5osQQ"
      },
      "execution_count": null,
      "outputs": []
    },
    {
      "cell_type": "code",
      "source": [
        "uniprotlength = pd.Series(uniprot_seqs).apply(lambda x: len(x))\n",
        "poslength = pos[\"Peptide\"].apply(lambda x: len(x))\n",
        "sns.kdeplot(uniprotlength)\n",
        "sns.kdeplot(poslength, color=\"red\")"
      ],
      "metadata": {
        "colab": {
          "base_uri": "https://localhost:8080/",
          "height": 467
        },
        "id": "oQA8Ya5YGUP8",
        "outputId": "44637925-a7b2-46bc-9f21-77ea82b28c8c"
      },
      "execution_count": null,
      "outputs": [
        {
          "output_type": "execute_result",
          "data": {
            "text/plain": [
              "<Axes: xlabel='Peptide', ylabel='Density'>"
            ]
          },
          "metadata": {},
          "execution_count": 20
        },
        {
          "output_type": "display_data",
          "data": {
            "text/plain": [
              "<Figure size 640x480 with 1 Axes>"
            ],
            "image/png": "[encoded data removed]"
          },
          "metadata": {}
        }
      ]
    },
    {
      "cell_type": "code",
      "source": [
        "enc_uniprot = PepTV(uniprot_seqs).numpy()\n",
        "np.savez_compressed(\"drive/MyDrive/DreamWalker/pre_train/Gen/enc_uniprot\", data=enc_uniprot)"
      ],
      "metadata": {
        "id": "YZuEhpw0FXqd"
      },
      "execution_count": null,
      "outputs": []
    }
  ],
  "metadata": {
    "kernelspec": {
      "display_name": "Python 3",
      "name": "python3"
    },
    "language_info": {
      "codemirror_mode": {
        "name": "ipython",
        "version": 3
      },
      "file_extension": ".py",
      "mimetype": "text/x-python",
      "name": "python",
      "nbconvert_exporter": "python",
      "pygments_lexer": "ipython3",
      "version": "3.8.5"
    },
    "colab": {
      "provenance": [],
      "machine_shape": "hm"
    }
  },
  "nbformat": 4,
  "nbformat_minor": 0
}