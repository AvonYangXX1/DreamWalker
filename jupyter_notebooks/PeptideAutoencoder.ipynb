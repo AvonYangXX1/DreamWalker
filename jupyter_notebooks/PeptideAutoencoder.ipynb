{
  "nbformat": 4,
  "nbformat_minor": 0,
  "metadata": {
    "colab": {
      "provenance": [],
      "gpuType": "V100",
      "machine_shape": "hm"
    },
    "kernelspec": {
      "name": "python3",
      "display_name": "Python 3"
    },
    "language_info": {
      "name": "python"
    },
    "accelerator": "GPU"
  },
  "cells": [
    {
      "cell_type": "markdown",
      "source": [
        "**GAN**"
      ],
      "metadata": {
        "id": "PZNppTZBwYnJ"
      }
    },
    {
      "cell_type": "code",
      "source": [
        "!git clone https://github.com/AvonYangXX1/DreamWalker.git\n",
        "import tensorflow as tf\n",
        "import numpy as np\n",
        "import os\n",
        "from sklearn.model_selection import train_test_split, KFold"
      ],
      "metadata": {
        "id": "BT9cm0MDt_N8",
        "colab": {
          "base_uri": "https://localhost:8080/"
        },
        "outputId": "2379e83f-d660-48ec-c1f0-aa8be2902626"
      },
      "execution_count": 5,
      "outputs": [
        {
          "output_type": "stream",
          "name": "stdout",
          "text": [
            "fatal: destination path 'DreamWalker' already exists and is not an empty directory.\n"
          ]
        }
      ]
    },
    {
      "cell_type": "code",
      "source": [
        "# Generator\n",
        "def create_autoencoder(seq_length, depth, latent_dim):\n",
        "    inputs0 = tf.keras.layers.Input(shape=(seq_length,1), name=\"Input0\")\n",
        "    x = tf.keras.layers.Flatten(name=\"flatten\")(inputs0)\n",
        "    x = tf.keras.layers.Dense(1024, activation=\"relu\", name=\"Dense_0\")(x)\n",
        "    x = tf.keras.layers.Dense(512, activation=\"relu\", name=\"Dense_1\")(x)\n",
        "    x = tf.keras.layers.Dense(256, activation=\"relu\", name=\"Dense_2\")(x)\n",
        "    x = tf.keras.layers.Dense(latent_dim, activation=\"tanh\", name=\"Dense_3\")(x)\n",
        "    x = tf.keras.layers.Dense(256, activation=\"relu\", name=\"Dense_4\")(x)\n",
        "    x = tf.keras.layers.Dense(512, activation=\"relu\", name=\"Dense_5\")(x)\n",
        "    x = tf.keras.layers.Dense(1024, activation=\"relu\", name=\"Dense_6\")(x)\n",
        "    x = tf.keras.layers.Dense(10*seq_length, activation=\"relu\", name=\"Dense_Reshape\")(x)\n",
        "    x = tf.keras.layers.Reshape((seq_length, 10), name=\"Reshape\")(x)\n",
        "    x = tf.keras.layers.Dense(depth, activation=\"softmax\", name=\"Output\")(x)\n",
        "    model = tf.keras.models.Model(inputs=inputs0, outputs=x, name=\"Autoencoder\")\n",
        "    model.compile(optimizer=tf.keras.optimizers.Adam(1e-4),\n",
        "                  loss='sparse_categorical_crossentropy',\n",
        "                  metrics=['accuracy'])\n",
        "    return model"
      ],
      "metadata": {
        "id": "Ghzvubkvwaco"
      },
      "execution_count": 29,
      "outputs": []
    },
    {
      "cell_type": "code",
      "source": [
        "aa_vocal = np.load(\"DreamWalker/model_weights/PepTV_vocal.npy\")\n",
        "pep_decoder = tf.keras.layers.StringLookup(vocabulary=aa_vocal[1:], invert=True, oov_token='')"
      ],
      "metadata": {
        "id": "bZwIUT4nThDJ"
      },
      "execution_count": 3,
      "outputs": []
    },
    {
      "cell_type": "code",
      "source": [
        "def onehot2seq(onehot):\n",
        "    seq = tf.math.argmax(onehot, axis=2)\n",
        "    seq = pep_decoder(seq).numpy().astype('str')\n",
        "    seq = [\"\".join(chars) for chars in seq]\n",
        "    return seq"
      ],
      "metadata": {
        "id": "SECVtYs6CyO5"
      },
      "execution_count": 10,
      "outputs": []
    },
    {
      "cell_type": "code",
      "source": [
        "latent_dim = 100\n",
        "seq_length = 40\n",
        "depth = 43\n",
        "np.random.seed(8701)\n",
        "demo_noise = (np.random.rand(3, latent_dim)-0.5)*2\n",
        "autoencoder = create_autoencoder(seq_length, depth, latent_dim)\n",
        "path = \"DreamWalker/data/processed_data/GAN\"\n",
        "pep = np.load(f\"{path}/enc_uniprot.npz\")[\"data\"]\n",
        "kf = KFold(n_splits=10, shuffle=True, random_state=0)\n",
        "epochs = 3\n",
        "for epoch in range(epochs):\n",
        "    print(f\"Epoch {epoch+1}/{epochs}\")\n",
        "    for fold, (train_index, val_index) in enumerate(kf.split(pep)):\n",
        "        pep_fold = pep[val_index]\n",
        "        pep_fold = pep_fold.reshape(pep_fold.shape[0], 40, 1)\n",
        "        # pep_fold = tf.one_hot(pep_fold, depth=43)\n",
        "        autoencoder.fit(pep_fold, pep_fold, epochs=1, batch_size=22, verbose=1, validation_split=0.2)\n",
        "        decoder = tf.keras.models.Model(inputs=autoencoder.layers[6].input, outputs=autoencoder.layers[-1].output)\n",
        "        demo_seq = decoder(demo_noise)\n",
        "        del decoder\n",
        "        demo_seq = onehot2seq(demo_seq)\n",
        "        print(demo_seq)"
      ],
      "metadata": {
        "colab": {
          "base_uri": "https://localhost:8080/"
        },
        "id": "Q_zkRcrnAbit",
        "outputId": "a567c8be-6cb0-49be-c31c-16df379213b2"
      },
      "execution_count": 31,
      "outputs": [
        {
          "output_type": "stream",
          "name": "stdout",
          "text": [
            "Epoch 1/3\n",
            "3921/3921 [==============================] - 21s 5ms/step - loss: 2.4657 - accuracy: 0.2846 - val_loss: 2.3768 - val_accuracy: 0.2622\n",
            "['MRRLLELLDLSRLARIIRESSEEELRILRLL', 'MRRLRLREDRERLDIRYRELIDEEIIRIDRRLIR', 'MLLLLSLIALLLLAL']\n",
            "3921/3921 [==============================] - 19s 5ms/step - loss: 2.0373 - accuracy: 0.3405 - val_loss: 1.9208 - val_accuracy: 0.3441\n",
            "['MVEELDSSRLSRLLRSRSDDLDDDIRSLSELE', 'MSELRVLRRRSRSERRRLDRSSDSSSDEEEELELLLR', 'MSLLVSISLSVLLLEP']\n",
            "3921/3921 [==============================] - 19s 5ms/step - loss: 1.6136 - accuracy: 0.4357 - val_loss: 1.5860 - val_accuracy: 0.4409\n",
            "['MSSLKDTESLTLLSRTVTDDVDDDLLSLELRDSE', 'VESSLVKKSVSSSSSRVKDKSSDSSSDSTSSSSELRKE', 'MTSLSTVSLSALKLSKKTVVAEVKVLRLEKREKE']\n",
            "3921/3921 [==============================] - 19s 5ms/step - loss: 1.3794 - accuracy: 0.5124 - val_loss: 1.4074 - val_accuracy: 0.5021\n",
            "['MVSSLDNDSRESLSLNSTDDSDDDLRSVDLLDSE', 'LNSSLVKKSISSSSSLVKDKSVDSTVDSYSSSSDKSKE', 'MNSLVSISSSRSKLEKTVAADVKVXLLLDKADRE']\n",
            "3921/3921 [==============================] - 19s 5ms/step - loss: 1.2318 - accuracy: 0.5689 - val_loss: 1.2710 - val_accuracy: 0.5597\n",
            "['MSSSLDYDSRESKSLNTTDDSDDDLVSSDKRDSDL', 'LNSSLVKKSRSSSSSLRKDKSVDSTVDSYSSTSDKELDL', 'RTSLVSATSTLRLEKTVRADVIVLLDKADLD']\n",
            "3921/3921 [==============================] - 19s 5ms/step - loss: 1.1114 - accuracy: 0.6201 - val_loss: 1.1555 - val_accuracy: 0.6135\n",
            "['MSSSRDEDSRDSKSRNNTDDSDDDLVFSDSDSDSKS', 'LNSSLSKKSLSSSSSKRKDKTVDSTVDSYSSTSDLELELL', 'RTSLISGTSTLLKEKNFRGDAIXLLDKADRD']\n",
            "3921/3921 [==============================] - 18s 5ms/step - loss: 1.0175 - accuracy: 0.6623 - val_loss: 1.0727 - val_accuracy: 0.6628\n",
            "['MSSSRDEDSLDSKSSYNSDDTDDDLVVSDSDTDELD', 'LNSSLSKKSLSSSSSKLKDKTVDVNVESYSSTSDLSLDSL', 'LTLLISRTSTLLLENPRADAAVLLDKRDAD']\n",
            "3921/3921 [==============================] - 19s 5ms/step - loss: 0.9404 - accuracy: 0.6968 - val_loss: 0.9812 - val_accuracy: 0.7112\n",
            "['MSSSADEDSLDSKSSYESDDTDDDLVVSDSDTDESD', 'LNSSRSKKSKSSSSSKLKDKTVDVNVESESSTVDLTLESL', 'LTLLASRTSTKKLDNPRGDAAIKLDKLDVD']\n",
            "3921/3921 [==============================] - 18s 5ms/step - loss: 0.8804 - accuracy: 0.7209 - val_loss: 0.9829 - val_accuracy: 0.6787\n",
            "['MSSSADEDSLDSKSSEESDDTDDDLVVSDSDNDELSR', 'SNSSRSKKSKSSFSSKLKDKNVDVNIEFESDTVDLTLSSV', 'MTSSASRTSCKLSDKNPRGDAGIKRDKLDID']\n",
            "3921/3921 [==============================] - 19s 5ms/step - loss: 0.8269 - accuracy: 0.7425 - val_loss: 0.8649 - val_accuracy: 0.7503\n",
            "['MSSSIDEDSLDSSSEESDDTDDDLVVSDSDNDESSV', 'SNSSASKKSKSSFSLLLKDKNVDVNAEVESDTVDLSLESV', 'MTLSAPLTSCKLSDNPGGDAGIRDKLDID']\n",
            "Epoch 2/3\n",
            "3921/3921 [==============================] - 19s 5ms/step - loss: 0.7819 - accuracy: 0.7586 - val_loss: 0.8626 - val_accuracy: 0.7401\n",
            "['MSSSIDEDSLDSKSSEDSDDHDDDKVVSDSDNDEVSV', 'SNSSASKKSKSSFSLKLKDKNVDVNAEVESDSIDLTLSLV', 'MHLSAPLTSCKLSDNPGGDARIADKLDID']\n",
            "3921/3921 [==============================] - 19s 5ms/step - loss: 0.7431 - accuracy: 0.7726 - val_loss: 0.8232 - val_accuracy: 0.7470\n",
            "['MPSSIDEDSKDSSSEDSDDNDDDKVVSDSDQDESSS', 'STSSASKKSKSSFSLKKKDKNVDVNAEVESDSIDLTLESV', 'MHSSAPLTSTKSSDNFGADARIKADKLDVD']\n",
            "3921/3921 [==============================] - 19s 5ms/step - loss: 0.7080 - accuracy: 0.7852 - val_loss: 0.7789 - val_accuracy: 0.7767\n",
            "['MSSSVDEDSKDSSSEDSDDHDDDKVVSDSDEDESSS', 'STSSASKKSKSSFSLLKKDKNVDVNAEVESDSADLTLESV', 'LHLSAPLTSHKSSDNPGADARIKADKLDID']\n",
            "3921/3921 [==============================] - 19s 5ms/step - loss: 0.6799 - accuracy: 0.7944 - val_loss: 0.7451 - val_accuracy: 0.7957\n",
            "['EPSSVDEDSKDSSSEDPDDHDDDKVISDSDEDDSSS', 'STSSISKKSKSSVSLLKKDKQVDVNGEVESDSADLNLSLV', 'VHLSAPLTSHKSSDNPGGDIRVADKKDVEL']\n",
            "3921/3921 [==============================] - 18s 5ms/step - loss: 0.6523 - accuracy: 0.8039 - val_loss: 0.7116 - val_accuracy: 0.8034\n",
            "['EFSSVDEDSKDSSSEDPDDNDDDKFVSDSDEDDSSS', 'STSSISKKSKSSVSLLKKDKQVDVNGEVESDSADLNLESV', 'LCSSAPLTSHKSSDNFGGDIRVADKKDIEL']\n",
            "3921/3921 [==============================] - 19s 5ms/step - loss: 0.6270 - accuracy: 0.8122 - val_loss: 0.7084 - val_accuracy: 0.8088\n",
            "['DFSSVDDDSKDSSSDDSDDNDDDLFISDSDEDDSSS', 'DTSSISKKSKSSVSLLKKDKQVDVNGQVESDSADLTLSSV', 'LCSSAPLTSHKSSDQPAADKIRIADKKDAEL']\n",
            "3921/3921 [==============================] - 19s 5ms/step - loss: 0.6085 - accuracy: 0.8174 - val_loss: 0.7167 - val_accuracy: 0.8163\n",
            "['DFSSVDEDSKDSSSDDPDDNDDDLVISDSDEDDSSS', 'ETSSISKKSKSSVSLLKKDKQVDVNRQVESDSADLTLSSA', 'LCSSAPLTSHKSSDQPGGDALIADKKDAEL']\n",
            "3921/3921 [==============================] - 19s 5ms/step - loss: 0.5917 - accuracy: 0.8229 - val_loss: 0.6824 - val_accuracy: 0.8307\n",
            "['DVSSFDEDSKDSSSDDSDDNDDDLFISDSDEDDSSS', 'DTSSISKKSKSSVSLLKKDKYVDVNRQVESDSADRNASSV', 'LCSLAPKTSHKSSDQFAADALVIDKKDIEL']\n",
            "3921/3921 [==============================] - 19s 5ms/step - loss: 0.5753 - accuracy: 0.8277 - val_loss: 0.6927 - val_accuracy: 0.8223\n",
            "['EVSSFDEDSKDSSSDDPDDNDDDLFISDSDEDDSST', 'DTSSISKKSKSSVSLLKKDKEVDVHRNVESDSADRNASSV', 'LCSSAPKTSHKSEDQFAGDKILIIDKKDAES']\n",
            "3921/3921 [==============================] - 18s 5ms/step - loss: 0.5611 - accuracy: 0.8313 - val_loss: 0.6519 - val_accuracy: 0.8237\n",
            "['EISSFDEDSKDSESDDPDDNDDDLFISDSDEDDSSS', 'DSSSVSKKSKSSVSLLKKDKEIDITLNVESDSADRNGSSA', 'LHSSAPKTSHKSDDQFAGDALIIDKKDAES']\n",
            "Epoch 3/3\n",
            "3921/3921 [==============================] - 18s 5ms/step - loss: 0.5425 - accuracy: 0.8371 - val_loss: 0.6428 - val_accuracy: 0.8301\n",
            "['EISSFDEDSKDSESDDPDDNDDDKFISDSDDDDSSS', 'ESSSVSKKSKSSFSLLKKDKEIDVHRNVDSDSADGNASSA', 'LHSSAFKTSHKSEDQFAADILIIDKKDADL']\n",
            "3921/3921 [==============================] - 18s 5ms/step - loss: 0.5314 - accuracy: 0.8389 - val_loss: 0.6401 - val_accuracy: 0.8245\n",
            "['EISSFDEDSKDLESDDPDDNDDDKFISDSDDDDVSS', 'DSSSVSKKSKPSVSLLKKDKEIDVTLNIDSDSADGNASSA', 'LCSSAPKTSHKSDDYFAGDKAKIIDKDADS']\n",
            "3921/3921 [==============================] - 19s 5ms/step - loss: 0.5160 - accuracy: 0.8422 - val_loss: 0.6220 - val_accuracy: 0.8363\n",
            "['EISSFDEDLKDSESDDPDDNDDDKPISDSDDDDVSS', 'ESSSVSKKSKPSVSLLKKDKEIDVTLNIDSDSADGNASSL', 'LHSSAPKTSNKEDDQFAADIKIIDKKDADS']\n",
            "3921/3921 [==============================] - 18s 5ms/step - loss: 0.5029 - accuracy: 0.8449 - val_loss: 0.6264 - val_accuracy: 0.8282\n",
            "['SISSFDEDSKDSESDDPDDNDDDKPISDSDDDDVST', 'ESSSISKKSKPSVSRLKKDKEIDVTLNIDSESADGNASSA', 'LHSSAPKTSNKSDDQFAGDKILIIDKDADS']\n",
            "3921/3921 [==============================] - 19s 5ms/step - loss: 0.4902 - accuracy: 0.8491 - val_loss: 0.6195 - val_accuracy: 0.8346\n",
            "['EALLPDEDLKDLESDDPDDNDDDKPISDSDDDDALS', 'ESLLVSKKLKPLVLRLKKDKEIDVTLNIDSESADGNISLL', 'LHLLAFKTLNKLDDQFAGDILIIDKKDIDL']\n",
            "3921/3921 [==============================] - 19s 5ms/step - loss: 0.4765 - accuracy: 0.8541 - val_loss: 0.6171 - val_accuracy: 0.8360\n",
            "['MALLPDEDLKDLESDDPDDNDDDKPISDTDDDDALT', 'DSLLVSKKLKPLVLRLKKDKEIDVTLNIDSDSADGNISLL', 'LHLLAFKTLNKLDDQFAGDKIKIIDKKDIDL']\n",
            "3921/3921 [==============================] - 19s 5ms/step - loss: 0.4682 - accuracy: 0.8562 - val_loss: 0.6277 - val_accuracy: 0.8473\n",
            "['EALLPDEDLKDLESDDPDDNDDDKPISDTEDDDVLT', 'ESLLVSKKLKFLVLRLKKDEIDVTLNIDSESGDGNVSLL', 'KCLLAFKTLNKLDDQFAGDKAKIIDKKDVDLK']\n",
            "3921/3921 [==============================] - 19s 5ms/step - loss: 0.4603 - accuracy: 0.8586 - val_loss: 0.6220 - val_accuracy: 0.8437\n",
            "['MGLLPDYDLKDLESDDPDDNDDDKPISDTEDDDVLN', 'DSLLVSKKLKFLVLRLKKDEIDVTLNIDSDSGDGNVSLL', 'KHLLAFKTLNKLDDQFAGDKAKIIDKKDVDL']\n",
            "3921/3921 [==============================] - 19s 5ms/step - loss: 0.4508 - accuracy: 0.8618 - val_loss: 0.5930 - val_accuracy: 0.8642\n",
            "['EALLPDYDLKDLETDDPDDNDDDKPISDTEDDDVLN', 'DSLLVSKKLKFLVLRLKDEIDVTLNIDSESGDGNVSLL', 'LHLLAFKTLNKLDDQFAGDKAKIIDKKDVDL']\n",
            "3921/3921 [==============================] - 19s 5ms/step - loss: 0.4462 - accuracy: 0.8630 - val_loss: 0.5652 - val_accuracy: 0.8529\n",
            "['MGLLPDYDLKDLETDDPDDNDDDKSISDTEDDDVLN', 'DSLLVSKKLKFLVLGLKDEIDVTLNADSDSGDANVSLL', 'KHLLAFKTLNKLDDQFAGDKAKIIDKDVDL']\n"
          ]
        }
      ]
    },
    {
      "cell_type": "code",
      "source": [
        "demo_noise = (np.random.rand(20, latent_dim)-0.5)*2\n",
        "decoder = tf.keras.models.Model(inputs=autoencoder.layers[6].input, outputs=autoencoder.layers[-1].output)\n",
        "generated_seqs = decoder(demo_noise)\n",
        "generated_seqs = onehot2seq(generated_seqs)\n",
        "generated_seqs"
      ],
      "metadata": {
        "colab": {
          "base_uri": "https://localhost:8080/"
        },
        "id": "p1WPrBxN2Fht",
        "outputId": "a7e80a69-bb6a-4d63-fa1c-cf23f3d84c3e"
      },
      "execution_count": 32,
      "outputs": [
        {
          "output_type": "execute_result",
          "data": {
            "text/plain": [
              "['EDLLKFLLKELPLVSIKSEQDPNQTKKKNNTGKFK',\n",
              " 'LNSLKDKKLGKADSASDYRSSDDPK',\n",
              " 'MKLLLSKELKPLDLNCGYDHDVADPDPDDEEDEATLL',\n",
              " 'LIVLDDELDPLTVVDFTSDIDQRIFSSV',\n",
              " 'LTLLKKFKLSKLQKEDRAIGPCTRRFRASFDL',\n",
              " 'DDTLKPDDLDDLDSDKDQDGDDGTDPL',\n",
              " 'SDLLKKKLVNLLKVKNDFDFAARGESVDDATKLD',\n",
              " 'KDLLKDDTLDPLVKSDDKPLGKPDDKINDKEILSDK',\n",
              " 'KSLLDYSALDDLMDFTTTQDDPDDDPDSSIEDLD',\n",
              " 'DNDLDYQVLIKSESQKSDYESRKDLLDFALI',\n",
              " 'SSSLLMELKRDLNKEDENHDDSVDDFSDDK',\n",
              " 'MKLLDDDLIKLSLEFSKDFAQSFKHCDPGDDTDVKLLA',\n",
              " 'KKLLKDLKLTCDDSLHKFIFRCTFD',\n",
              " 'LDELNGILDVLDLDSKYFSDKMDGDPDPDTPGDDDK',\n",
              " 'STDLNRDDLKKLDKKDVTDGHDNEVEKHTLKP',\n",
              " 'MKSLDDEDSDDQKRPAKYTLDGRDETSGDKFK',\n",
              " 'DGLLDDNLDELDEDDKNVKLIDTPDDTANDADK',\n",
              " 'LGDLDDSLDDLEGRLKDDFANTTDRFQL',\n",
              " 'AKLLKTTKLPRLLEDNVHLDDDTKDGLVDLKLL',\n",
              " 'EDLLDKNLKDSLDIYDSRDKENDVETDDSKK']"
            ]
          },
          "metadata": {},
          "execution_count": 32
        }
      ]
    },
    {
      "cell_type": "code",
      "source": [
        "autoencoder.save(\"PeptideAutoencoder.keras\")"
      ],
      "metadata": {
        "id": "qp7Ko6UR17H0"
      },
      "execution_count": 33,
      "outputs": []
    },
    {
      "cell_type": "code",
      "source": [],
      "metadata": {
        "id": "P2fbf02k2NKg"
      },
      "execution_count": null,
      "outputs": []
    },
    {
      "cell_type": "code",
      "source": [
        "# np.save(\"/content/AMPLify-Feedback/processed_data/GAN_seq/generated_seqs_10\",generated_seqs)"
      ],
      "metadata": {
        "id": "CIjPycwJ3Fbz"
      },
      "execution_count": null,
      "outputs": []
    },
    {
      "cell_type": "code",
      "source": [
        "#Convert to One_hot\n",
        "# generated_seqs_one_hot = tf.one_hot(generated_seqs.squeeze(), depth=43)\n",
        "# np.save(\"/content/AMPLify-Feedback/processed_data/GAN_seq/generated_seqs_one_hot_10\",generated_seqs_one_hot)"
      ],
      "metadata": {
        "id": "i-sU4iUtFO51"
      },
      "execution_count": null,
      "outputs": []
    }
  ]
}