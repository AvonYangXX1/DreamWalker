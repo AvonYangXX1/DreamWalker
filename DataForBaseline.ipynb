{
 "cells": [
  {
   "cell_type": "code",
   "execution_count": 2,
   "metadata": {},
   "outputs": [],
   "source": [
    "import pandas as pd\n",
    "from Bio.Align import Applications as AlignApp"
   ]
  },
  {
   "cell_type": "code",
   "execution_count": 3,
   "metadata": {},
   "outputs": [],
   "source": [
    "data = pd.read_csv(\"data/processed_data/AMP/PeptideMarkerMIC.csv\")"
   ]
  },
  {
   "cell_type": "code",
   "execution_count": 49,
   "metadata": {},
   "outputs": [],
   "source": [
    "TheSmallest = data.drop_duplicates([\"Target\", \"Peptide\"]).groupby(\"Target\")[[\"Target\", \"Marker\", \"Peptide\", \"Log2MIC\"]].apply(lambda x: x.nsmallest(10, columns=[\"Log2MIC\"]))\n",
    "peptides = TheSmallest[[\"Peptide\"]].drop_duplicates()\n",
    "peptides.index = [i for i in range(peptides.shape[0])]\n",
    "peptides['PepID'] = [f'pep.{i}' for i in range(peptides.shape[0])]\n",
    "TheSmallest.index = [i for i in range(TheSmallest.shape[0])]\n",
    "TheSmallest = TheSmallest.merge(peptides, on='Peptide')"
   ]
  },
  {
   "cell_type": "code",
   "execution_count": 54,
   "metadata": {},
   "outputs": [],
   "source": [
    "file = open('data/processed_data/Baseline/peptides.fasta', 'w')\n",
    "for pair in peptides.values.tolist():\n",
    "    file.write(f\">{pair[1]}\\n\")\n",
    "    file.write(f\"{pair[0]}\\n\")\n",
    "file.close()"
   ]
  },
  {
   "cell_type": "code",
   "execution_count": null,
   "metadata": {},
   "outputs": [],
   "source": [
    "# Go to MAFFT"
   ]
  },
  {
   "cell_type": "code",
   "execution_count": 67,
   "metadata": {},
   "outputs": [],
   "source": [
    "class Preprocessing():\n",
    "    def __init__(self):\n",
    "        return\n",
    "        \n",
    "    def ReadFASTA(self,filename,as_pd=True):\n",
    "        if filename.split(\".\")[-1] not in [\"fasta\",\"fna\",\"fa\"]:\n",
    "            raise ValueError('Invalid file format. Expected formats are [\"fasta\",\"fna\",\"fa\"].')\n",
    "        file_handle = open(filename,\"r\")\n",
    "        seqs = []\n",
    "        seqid = []\n",
    "        tmp_seq = \"\"\n",
    "        for line in file_handle:\n",
    "            if (line[0] == \">\"):\n",
    "                if tmp_seq != \"\":\n",
    "                    seqs.append(tmp_seq)\n",
    "                seqid.append(line.split(\"\\n\")[0][1:])\n",
    "                tmp_seq = \"\"\n",
    "            else:\n",
    "                tmp_seq+=line.split(\"\\n\")[0]\n",
    "        seqs.append(tmp_seq)\n",
    "        file_handle.close()\n",
    "        if as_pd:\n",
    "            fasta = {}\n",
    "            for i in range(len(seqs)):\n",
    "                fasta[seqid[i]] = seqs[i]\n",
    "            return pd.DataFrame(fasta,index=[\"AlnPep\"]).transpose()\n",
    "        else:\n",
    "            return seqs, seqid"
   ]
  },
  {
   "cell_type": "code",
   "execution_count": 72,
   "metadata": {},
   "outputs": [],
   "source": [
    "pp = Preprocessing()\n",
    "aln = pp.ReadFASTA('data/processed_data/Baseline/aln_peptides.fasta')\n",
    "aln['PepID'] = aln.index\n",
    "aln.index = [i for i in range(aln.shape[0])]"
   ]
  },
  {
   "cell_type": "code",
   "execution_count": 78,
   "metadata": {},
   "outputs": [
    {
     "data": {
      "text/html": [
       "<div>\n",
       "<style scoped>\n",
       "    .dataframe tbody tr th:only-of-type {\n",
       "        vertical-align: middle;\n",
       "    }\n",
       "\n",
       "    .dataframe tbody tr th {\n",
       "        vertical-align: top;\n",
       "    }\n",
       "\n",
       "    .dataframe thead th {\n",
       "        text-align: right;\n",
       "    }\n",
       "</style>\n",
       "<table border=\"1\" class=\"dataframe\">\n",
       "  <thead>\n",
       "    <tr style=\"text-align: right;\">\n",
       "      <th></th>\n",
       "      <th>Target</th>\n",
       "      <th>Marker</th>\n",
       "      <th>AlnPep</th>\n",
       "    </tr>\n",
       "  </thead>\n",
       "  <tbody>\n",
       "    <tr>\n",
       "      <th>0</th>\n",
       "      <td>Acholeplasma_laidlawii</td>\n",
       "      <td>AGAGUUUGAUCCUGGCUCAGGAUGAACGCUGGCGGCGUGCCUAAUA...</td>\n",
       "      <td>----------------------------------------------...</td>\n",
       "    </tr>\n",
       "    <tr>\n",
       "      <th>1</th>\n",
       "      <td>Mycoplasma_gallisepticum</td>\n",
       "      <td>AGAGUUUGAUCCUGGCUCAGGAUUAACGCUGGCGGCAUGCCUAAUA...</td>\n",
       "      <td>----------------------------------------------...</td>\n",
       "    </tr>\n",
       "    <tr>\n",
       "      <th>2</th>\n",
       "      <td>Mycoplasma_mycoides</td>\n",
       "      <td>AGAGUUUGAUCCUGGCUCAGGAUAAACGCUGGCGGCAUGCCUAAUA...</td>\n",
       "      <td>----------------------------------------------...</td>\n",
       "    </tr>\n",
       "    <tr>\n",
       "      <th>3</th>\n",
       "      <td>Spiroplasma_citri</td>\n",
       "      <td>UUUUUAAUGAGAGUUUGAUCCUGGCUCAGGAUGAACGCUGGCGGCA...</td>\n",
       "      <td>----------------------------------------------...</td>\n",
       "    </tr>\n",
       "    <tr>\n",
       "      <th>4</th>\n",
       "      <td>Spiroplasma_floricola</td>\n",
       "      <td>UGGAGAGUUUGAUCCUGGCUCAGGAUGAACGCUGGCGGCAUGCUUA...</td>\n",
       "      <td>----------------------------------------------...</td>\n",
       "    </tr>\n",
       "    <tr>\n",
       "      <th>...</th>\n",
       "      <td>...</td>\n",
       "      <td>...</td>\n",
       "      <td>...</td>\n",
       "    </tr>\n",
       "    <tr>\n",
       "      <th>1763</th>\n",
       "      <td>Yersinia_ruckeri</td>\n",
       "      <td>CCUUUGGCGGCAGGCUACACAUGCAGUCGAGCGGCAGCGGAAAGUA...</td>\n",
       "      <td>----------------------------------------------...</td>\n",
       "    </tr>\n",
       "    <tr>\n",
       "      <th>1764</th>\n",
       "      <td>Zobellia_galactanivorans</td>\n",
       "      <td>CAACGAUGAAGAGUUUGAUCCUGGCUCAGGAUGAACGCUAGCGGCA...</td>\n",
       "      <td>-----------------------------------------GCA--...</td>\n",
       "    </tr>\n",
       "    <tr>\n",
       "      <th>1765</th>\n",
       "      <td>Zymomonas_mobilis</td>\n",
       "      <td>UUGAUCCUGGCUCAGAACGAACGCUGGCGGCAUGCUUAACACAUGC...</td>\n",
       "      <td>----------------------------------------------...</td>\n",
       "    </tr>\n",
       "    <tr>\n",
       "      <th>1766</th>\n",
       "      <td>Zymomonas_mobilis</td>\n",
       "      <td>UUGAUCCUGGCUCAGAACGAACGCUGGCGGCAUGCUUAACACAUGC...</td>\n",
       "      <td>----------------------------------------------...</td>\n",
       "    </tr>\n",
       "    <tr>\n",
       "      <th>1767</th>\n",
       "      <td>Zymomonas_mobilis</td>\n",
       "      <td>UUGAUCCUGGCUCAGAACGAACGCUGGCGGCAUGCUUAACACAUGC...</td>\n",
       "      <td>----------------------------------------------...</td>\n",
       "    </tr>\n",
       "  </tbody>\n",
       "</table>\n",
       "<p>1768 rows × 3 columns</p>\n",
       "</div>"
      ],
      "text/plain": [
       "                        Target  \\\n",
       "0       Acholeplasma_laidlawii   \n",
       "1     Mycoplasma_gallisepticum   \n",
       "2          Mycoplasma_mycoides   \n",
       "3            Spiroplasma_citri   \n",
       "4        Spiroplasma_floricola   \n",
       "...                        ...   \n",
       "1763          Yersinia_ruckeri   \n",
       "1764  Zobellia_galactanivorans   \n",
       "1765         Zymomonas_mobilis   \n",
       "1766         Zymomonas_mobilis   \n",
       "1767         Zymomonas_mobilis   \n",
       "\n",
       "                                                 Marker  \\\n",
       "0     AGAGUUUGAUCCUGGCUCAGGAUGAACGCUGGCGGCGUGCCUAAUA...   \n",
       "1     AGAGUUUGAUCCUGGCUCAGGAUUAACGCUGGCGGCAUGCCUAAUA...   \n",
       "2     AGAGUUUGAUCCUGGCUCAGGAUAAACGCUGGCGGCAUGCCUAAUA...   \n",
       "3     UUUUUAAUGAGAGUUUGAUCCUGGCUCAGGAUGAACGCUGGCGGCA...   \n",
       "4     UGGAGAGUUUGAUCCUGGCUCAGGAUGAACGCUGGCGGCAUGCUUA...   \n",
       "...                                                 ...   \n",
       "1763  CCUUUGGCGGCAGGCUACACAUGCAGUCGAGCGGCAGCGGAAAGUA...   \n",
       "1764  CAACGAUGAAGAGUUUGAUCCUGGCUCAGGAUGAACGCUAGCGGCA...   \n",
       "1765  UUGAUCCUGGCUCAGAACGAACGCUGGCGGCAUGCUUAACACAUGC...   \n",
       "1766  UUGAUCCUGGCUCAGAACGAACGCUGGCGGCAUGCUUAACACAUGC...   \n",
       "1767  UUGAUCCUGGCUCAGAACGAACGCUGGCGGCAUGCUUAACACAUGC...   \n",
       "\n",
       "                                                 AlnPep  \n",
       "0     ----------------------------------------------...  \n",
       "1     ----------------------------------------------...  \n",
       "2     ----------------------------------------------...  \n",
       "3     ----------------------------------------------...  \n",
       "4     ----------------------------------------------...  \n",
       "...                                                 ...  \n",
       "1763  ----------------------------------------------...  \n",
       "1764  -----------------------------------------GCA--...  \n",
       "1765  ----------------------------------------------...  \n",
       "1766  ----------------------------------------------...  \n",
       "1767  ----------------------------------------------...  \n",
       "\n",
       "[1768 rows x 3 columns]"
      ]
     },
     "execution_count": 78,
     "metadata": {},
     "output_type": "execute_result"
    }
   ],
   "source": [
    "TheSmallest.merge(aln, on=\"PepID\")[[\"Target\", \"Marker\", \"AlnPep\"]]"
   ]
  },
  {
   "cell_type": "code",
   "execution_count": 79,
   "metadata": {},
   "outputs": [],
   "source": [
    "TheSmallest.to_csv('data/processed_data/Baseline/basedata.csv', index=False)"
   ]
  }
 ],
 "metadata": {
  "kernelspec": {
   "display_name": "Python 3",
   "language": "python",
   "name": "python3"
  },
  "language_info": {
   "codemirror_mode": {
    "name": "ipython",
    "version": 3
   },
   "file_extension": ".py",
   "mimetype": "text/x-python",
   "name": "python",
   "nbconvert_exporter": "python",
   "pygments_lexer": "ipython3",
   "version": "3.8.5"
  }
 },
 "nbformat": 4,
 "nbformat_minor": 4
}
