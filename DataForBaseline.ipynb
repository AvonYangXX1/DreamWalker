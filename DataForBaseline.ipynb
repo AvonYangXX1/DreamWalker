{
 "cells": [
  {
   "cell_type": "code",
   "execution_count": 10,
   "metadata": {},
   "outputs": [],
   "source": [
    "import pandas as pd\n",
    "from Bio.Align import Applications as AlignApp\n",
    "import numpy as np\n",
    "import tensorflow as tf"
   ]
  },
  {
   "cell_type": "code",
   "execution_count": 2,
   "metadata": {},
   "outputs": [],
   "source": [
    "data = pd.read_csv(\"data/processed_data/AMP/PeptideMarkerMIC.csv\")"
   ]
  },
  {
   "cell_type": "code",
   "execution_count": 3,
   "metadata": {},
   "outputs": [],
   "source": [
    "TheSmallest = data.drop_duplicates([\"Target\", \"Peptide\"]).groupby(\"Target\")[[\"Target\", \"Marker\", \"Peptide\", \"Log2MIC\"]].apply(lambda x: x.nsmallest(10, columns=[\"Log2MIC\"]))\n",
    "peptides = TheSmallest[[\"Peptide\"]].drop_duplicates()\n",
    "peptides.index = [i for i in range(peptides.shape[0])]\n",
    "peptides['PepID'] = [f'pep.{i}' for i in range(peptides.shape[0])]\n",
    "TheSmallest.index = [i for i in range(TheSmallest.shape[0])]\n",
    "TheSmallest = TheSmallest.merge(peptides, on='Peptide')"
   ]
  },
  {
   "cell_type": "code",
   "execution_count": 4,
   "metadata": {},
   "outputs": [],
   "source": [
    "in_filename = 'data/processed_data/Baseline/peptides.fasta'\n",
    "file = open(in_filename, 'w')\n",
    "for pair in peptides.values.tolist():\n",
    "    file.write(f\">{pair[1]}\\n\")\n",
    "    file.write(f\"{pair[0]}\\n\")\n",
    "file.close()"
   ]
  },
  {
   "cell_type": "code",
   "execution_count": 5,
   "metadata": {},
   "outputs": [],
   "source": [
    "out_filename = 'data/processed_data/Baseline/aln_peptides.fasta'\n",
    "mafft_cline = AlignApp.MafftCommandline(input=in_filename)\n",
    "stdout, stderr = mafft_cline()\n",
    "with open(out_filename, \"w\") as handle:\n",
    "    handle.write(stdout)"
   ]
  },
  {
   "cell_type": "code",
   "execution_count": 6,
   "metadata": {},
   "outputs": [],
   "source": [
    "class Preprocessing():\n",
    "    def __init__(self):\n",
    "        return\n",
    "        \n",
    "    def ReadFASTA(self,filename,as_pd=True):\n",
    "        if filename.split(\".\")[-1] not in [\"fasta\",\"fna\",\"fa\"]:\n",
    "            raise ValueError('Invalid file format. Expected formats are [\"fasta\",\"fna\",\"fa\"].')\n",
    "        file_handle = open(filename,\"r\")\n",
    "        seqs = []\n",
    "        seqid = []\n",
    "        tmp_seq = \"\"\n",
    "        for line in file_handle:\n",
    "            if (line[0] == \">\"):\n",
    "                if tmp_seq != \"\":\n",
    "                    seqs.append(tmp_seq)\n",
    "                seqid.append(line.split(\"\\n\")[0][1:])\n",
    "                tmp_seq = \"\"\n",
    "            else:\n",
    "                tmp_seq+=line.split(\"\\n\")[0]\n",
    "        seqs.append(tmp_seq)\n",
    "        file_handle.close()\n",
    "        if as_pd:\n",
    "            fasta = {}\n",
    "            for i in range(len(seqs)):\n",
    "                fasta[seqid[i]] = seqs[i]\n",
    "            return pd.DataFrame(fasta,index=[\"AlnPep\"]).transpose()\n",
    "        else:\n",
    "            return seqs, seqid"
   ]
  },
  {
   "cell_type": "code",
   "execution_count": 7,
   "metadata": {},
   "outputs": [],
   "source": [
    "pp = Preprocessing()\n",
    "aln = pp.ReadFASTA('data/processed_data/Baseline/aln_peptides.fasta')\n",
    "aln['PepID'] = aln.index\n",
    "aln.index = [i for i in range(aln.shape[0])]"
   ]
  },
  {
   "cell_type": "code",
   "execution_count": 52,
   "metadata": {},
   "outputs": [],
   "source": [
    "aa_vocal = np.load(\"model_weights/PepTV_vocal.npy\")\n",
    "PepTV = tf.keras.layers.TextVectorization(standardize=None, split=\"character\",\n",
    "                                          output_sequence_length=194,\n",
    "                                          output_mode=\"int\", name=\"PepTextVectorizer\")\n",
    "PepTV.set_vocabulary(aa_vocal)"
   ]
  },
  {
   "cell_type": "code",
   "execution_count": 59,
   "metadata": {
    "scrolled": true
   },
   "outputs": [],
   "source": [
    "enc_aln_pep = PepTV(aln['AlnPep'].values).numpy()"
   ]
  },
  {
   "cell_type": "code",
   "execution_count": 61,
   "metadata": {},
   "outputs": [],
   "source": [
    "np.savez_compressed(\"data/processed_data/Baseline/enc_aln_pep\", data=enc_aln_pep)"
   ]
  },
  {
   "cell_type": "code",
   "execution_count": 62,
   "metadata": {},
   "outputs": [],
   "source": [
    "keys = TheSmallest[[\"Target\", \"PepID\"]]"
   ]
  },
  {
   "cell_type": "code",
   "execution_count": 63,
   "metadata": {},
   "outputs": [],
   "source": [
    "keys.to_csv('data/processed_data/Baseline/keys.csv', index=False)"
   ]
  },
  {
   "cell_type": "code",
   "execution_count": 65,
   "metadata": {},
   "outputs": [],
   "source": [
    "targets = TheSmallest[[\"Target\", \"Marker\"]].drop_duplicates()"
   ]
  },
  {
   "cell_type": "code",
   "execution_count": 67,
   "metadata": {},
   "outputs": [],
   "source": [
    "targets.to_csv('data/processed_data/Baseline/targets.csv', index=False)"
   ]
  },
  {
   "cell_type": "code",
   "execution_count": null,
   "metadata": {},
   "outputs": [],
   "source": []
  }
 ],
 "metadata": {
  "kernelspec": {
   "display_name": "Python 3",
   "language": "python",
   "name": "python3"
  },
  "language_info": {
   "codemirror_mode": {
    "name": "ipython",
    "version": 3
   },
   "file_extension": ".py",
   "mimetype": "text/x-python",
   "name": "python",
   "nbconvert_exporter": "python",
   "pygments_lexer": "ipython3",
   "version": "3.8.5"
  }
 },
 "nbformat": 4,
 "nbformat_minor": 4
}
