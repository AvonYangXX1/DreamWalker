{
 "cells": [
  {
   "cell_type": "code",
   "execution_count": 61,
   "metadata": {},
   "outputs": [],
   "source": [
    "from Bio.Align import PairwiseAligner\n",
    "import pandas as pd\n",
    "import numpy as np\n",
    "import tensorflow as tf"
   ]
  },
  {
   "cell_type": "code",
   "execution_count": 82,
   "metadata": {},
   "outputs": [],
   "source": [
    "class KinsfolkProfileSampler():\n",
    "    def __init__(self, path_to_targets, path_to_keys, path_to_pep):\n",
    "        self.aligner = PairwiseAligner()\n",
    "        self.targets = pd.read_csv(path_to_targets)\n",
    "        self.keys = pd.read_csv(path_to_keys)\n",
    "        self.peptides = np.load(path_to_pep)['data']\n",
    "        \n",
    "    def align(self, query):\n",
    "        scores = self.targets['Marker'].apply(lambda x: self.aligner.align(x, query)[0].score)\n",
    "        return scores\n",
    "    \n",
    "    def findkins(self, query):\n",
    "        scores = self.align(query)\n",
    "        indices = scores.nlargest(10).index.values\n",
    "        return self.targets[\"Target\"][indices]\n",
    "    \n",
    "    def findpep(self, query):\n",
    "        kins = self.findkins(query)\n",
    "        pepids = self.keys.query(\"Target in @kins\")['PepID']\n",
    "        pepindices = pepids.apply(lambda x: int(x.split('pep.')[1])).drop_duplicates().values\n",
    "        pep = self.peptides[pepindices]\n",
    "        pep = tf.one_hot(pep, depth=43).numpy()\n",
    "        pep = pep.reshape(-1, 43*194)\n",
    "        return pep\n",
    "        "
   ]
  },
  {
   "cell_type": "code",
   "execution_count": 3,
   "metadata": {},
   "outputs": [],
   "source": [
    "path_to_targets = 'data/processed_data/Baseline/targets.csv'\n",
    "path_to_keys = 'data/processed_data/Baseline/keys.csv'\n",
    "path_to_pep = \"data/processed_data/Baseline/enc_aln_pep.npz\""
   ]
  },
  {
   "cell_type": "code",
   "execution_count": 83,
   "metadata": {},
   "outputs": [],
   "source": [
    "kps = KinsfolkProfileSampler(path_to_targets, path_to_keys, path_to_pep)"
   ]
  },
  {
   "cell_type": "code",
   "execution_count": 97,
   "metadata": {},
   "outputs": [],
   "source": [
    "pep = kps.align('AGAGUUUGAUCCUGGCUCAGGAUGAACGCUGGCGGCGUGCCUAAUACAUGCAAGUCGAACGAAGCAUCUUCGGAUGCUUAGUGGCGAACGGGUGAGUAACACGUAGAUAACCUACCUUUAACUCGAGGAUAACUCCGGGAAACUGGAGCUAAUACUGGAUAGGAUGUGUGCAUGAAAAAAACACAUUUAAAGAUUUAUCGGUUUAAGAGGGGUCUGCGGCGCAUUAGUUAGUUGGUGGGGUAAAAGCCUACCAAGACGAUGAUGCGUAGCCGGACUGAGAGGUCUACCGGCCACAUUGGGACUGAGAACGGCCCAAACUCCUACGGGAGGCAGCAGUAGGGAAUUUUCGGCAAUGGGGGAAACCCUGACCGAGCAACGCCGCGUGAACGACGAAGUACUUCGGUAUGUAAAGUUCUUUUAUAUGGGAAGAAAAAUUAAAAAUUGACGGUACCAUAUGAAUAAGCCCCGGCUAACUAUGUGCCAGCAGCCGCGGUAAUACAUAGGGGGCGAGCGUUAUCCGGAUUUACUGGGCGUAAAGGGUGCGUAGGUGGUUAUAAAAGUUUGUGGUGUAAGUGCAGUGCUUAACGCUGUGAGGCUAUGAAAACUAUAUAACUAGAGUGAGACAGAGGCAAGUGGAAUUCCAUGUGUAGCGGUAAAAUGCGUAAAUAUAUGGAGGAACACCAGUGGCGAAGGCGGCUUGCUGGGUCUAUACUGACACUGAUGCACGAAAGCGUGGGGAGCAAACAGGAUUAGAUACCCUGGUAGUCCACGCCGUAAACGAUGAGAACUAAGUGUUGGCCAAAAGGUCAGUGCUGCAGUUAACGCAUUAAGUUCUCCGCCUGAGUAGUACGUACGCAAGUAUGAAACUCAAAGGAAUUGACGGGACCCCGCACAAGCGGUGGAUCAUGUUGUUUAAUUCGAAGAUACACGAAAAACCUUACCAGGUCUUGACAUACUCUGCAAAGGCUUAGAAAUAAGUUCGGAGGCUAACAGAUGUACAGGUGGUGCACGGUUGUCGUCAGCUCGUGUCGUGAGAUGUUGGGUUAAGUCCCGCAACGAGCGCAACCCUUAUUGCUAGUUACCAUCAUUAAGUUGGGGACUCUAGCGAGACUGCCAGUGAUAAAUUGGAGGAAGGUGGGGAUGACGUCAAAUCAUCAUGCCCCUUAUGACCUGGGCUACAAACGUGAUACAAUGGCUGGAACAAAGAGAAGCGAUAGGGUGACCUGGAGCGAAACUCACAAAAACAGUCUCAGUUCGGAUUGGAGUCUGCAACUCGACUCCAUGAAGUCGGAAUCGCUAGUAAUCGCAAAUCAGCAUGUUGCGGUGAAUACGUUCUCGGGGUUUGUACACACCGCCCGUCAAACCACGAAAGUGGGCAAUACCCAACGCCGGUGGCCUAACCCGAAAGGGAGGGAGCCGUCUAAGGUAGGGUCCAUGAUUGGGGUUAAGUCGUAACAAGGUAUCCCUACGGGAACGUGGGGAUGGAUCACCU')\n"
   ]
  },
  {
   "cell_type": "code",
   "execution_count": 96,
   "metadata": {},
   "outputs": [
    {
     "data": {
      "text/plain": [
       "array([ 0., 65.,  0., ...,  0.,  0.,  0.], dtype=float32)"
      ]
     },
     "execution_count": 96,
     "metadata": {},
     "output_type": "execute_result"
    }
   ],
   "source": [
    "pep.sum(axis=0)"
   ]
  },
  {
   "cell_type": "code",
   "execution_count": 108,
   "metadata": {},
   "outputs": [
    {
     "data": {
      "text/plain": [
       "0      0.114946\n",
       "244    0.103621\n",
       "255    0.098382\n",
       "3      0.097997\n",
       "118    0.097997\n",
       "2      0.097766\n",
       "109    0.097535\n",
       "108    0.097304\n",
       "186    0.097304\n",
       "78     0.097149\n",
       "Name: Marker, dtype: float64"
      ]
     },
     "execution_count": 108,
     "metadata": {},
     "output_type": "execute_result"
    }
   ],
   "source": [
    "pep.nlargest(10) / pep.nlargest(10).sum()"
   ]
  }
 ],
 "metadata": {
  "kernelspec": {
   "display_name": "Python 3",
   "language": "python",
   "name": "python3"
  },
  "language_info": {
   "codemirror_mode": {
    "name": "ipython",
    "version": 3
   },
   "file_extension": ".py",
   "mimetype": "text/x-python",
   "name": "python",
   "nbconvert_exporter": "python",
   "pygments_lexer": "ipython3",
   "version": "3.8.5"
  }
 },
 "nbformat": 4,
 "nbformat_minor": 4
}
