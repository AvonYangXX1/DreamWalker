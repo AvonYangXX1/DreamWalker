{
  "cells": [
    {
      "cell_type": "markdown",
      "source": [
        "# Load Packages and Data"
      ],
      "metadata": {
        "id": "7JwTJ4P4wWQW"
      }
    },
    {
      "cell_type": "code",
      "source": [
        "!pip install pomegranate\n",
        "!pip install Bio"
      ],
      "metadata": {
        "colab": {
          "base_uri": "https://localhost:8080/"
        },
        "id": "-gZS01jHwby7",
        "outputId": "b268bd71-ff84-45da-b3dc-51495b5d6f38"
      },
      "execution_count": null,
      "outputs": [
        {
          "output_type": "stream",
          "name": "stdout",
          "text": [
            "Collecting pomegranate\n",
            "  Downloading pomegranate-1.0.3-py3-none-any.whl (90 kB)\n",
            "\u001b[2K     \u001b[90m━━━━━━━━━━━━━━━━━━━━━━━━━━━━━━━━━━━━━━━━\u001b[0m \u001b[32m90.8/90.8 kB\u001b[0m \u001b[31m941.3 kB/s\u001b[0m eta \u001b[36m0:00:00\u001b[0m\n",
            "\u001b[?25hRequirement already satisfied: numpy>=1.22.2 in /usr/local/lib/python3.10/dist-packages (from pomegranate) (1.23.5)\n",
            "Requirement already satisfied: scipy>=1.6.2 in /usr/local/lib/python3.10/dist-packages (from pomegranate) (1.11.4)\n",
            "Requirement already satisfied: scikit-learn>=1.0.2 in /usr/local/lib/python3.10/dist-packages (from pomegranate) (1.2.2)\n",
            "Requirement already satisfied: torch>=1.9.0 in /usr/local/lib/python3.10/dist-packages (from pomegranate) (2.1.0+cu121)\n",
            "Collecting apricot-select>=0.6.1 (from pomegranate)\n",
            "  Downloading apricot-select-0.6.1.tar.gz (28 kB)\n",
            "  Preparing metadata (setup.py) ... \u001b[?25l\u001b[?25hdone\n",
            "Requirement already satisfied: networkx>=2.8.4 in /usr/local/lib/python3.10/dist-packages (from pomegranate) (3.2.1)\n",
            "Requirement already satisfied: numba>=0.43.0 in /usr/local/lib/python3.10/dist-packages (from apricot-select>=0.6.1->pomegranate) (0.58.1)\n",
            "Requirement already satisfied: tqdm>=4.24.0 in /usr/local/lib/python3.10/dist-packages (from apricot-select>=0.6.1->pomegranate) (4.66.1)\n",
            "Collecting nose (from apricot-select>=0.6.1->pomegranate)\n",
            "  Downloading nose-1.3.7-py3-none-any.whl (154 kB)\n",
            "\u001b[2K     \u001b[90m━━━━━━━━━━━━━━━━━━━━━━━━━━━━━━━━━━━━━━━━\u001b[0m \u001b[32m154.7/154.7 kB\u001b[0m \u001b[31m3.8 MB/s\u001b[0m eta \u001b[36m0:00:00\u001b[0m\n",
            "\u001b[?25hRequirement already satisfied: joblib>=1.1.1 in /usr/local/lib/python3.10/dist-packages (from scikit-learn>=1.0.2->pomegranate) (1.3.2)\n",
            "Requirement already satisfied: threadpoolctl>=2.0.0 in /usr/local/lib/python3.10/dist-packages (from scikit-learn>=1.0.2->pomegranate) (3.2.0)\n",
            "Requirement already satisfied: filelock in /usr/local/lib/python3.10/dist-packages (from torch>=1.9.0->pomegranate) (3.13.1)\n",
            "Requirement already satisfied: typing-extensions in /usr/local/lib/python3.10/dist-packages (from torch>=1.9.0->pomegranate) (4.5.0)\n",
            "Requirement already satisfied: sympy in /usr/local/lib/python3.10/dist-packages (from torch>=1.9.0->pomegranate) (1.12)\n",
            "Requirement already satisfied: jinja2 in /usr/local/lib/python3.10/dist-packages (from torch>=1.9.0->pomegranate) (3.1.3)\n",
            "Requirement already satisfied: fsspec in /usr/local/lib/python3.10/dist-packages (from torch>=1.9.0->pomegranate) (2023.6.0)\n",
            "Requirement already satisfied: triton==2.1.0 in /usr/local/lib/python3.10/dist-packages (from torch>=1.9.0->pomegranate) (2.1.0)\n",
            "Requirement already satisfied: llvmlite<0.42,>=0.41.0dev0 in /usr/local/lib/python3.10/dist-packages (from numba>=0.43.0->apricot-select>=0.6.1->pomegranate) (0.41.1)\n",
            "Requirement already satisfied: MarkupSafe>=2.0 in /usr/local/lib/python3.10/dist-packages (from jinja2->torch>=1.9.0->pomegranate) (2.1.4)\n",
            "Requirement already satisfied: mpmath>=0.19 in /usr/local/lib/python3.10/dist-packages (from sympy->torch>=1.9.0->pomegranate) (1.3.0)\n",
            "Building wheels for collected packages: apricot-select\n",
            "  Building wheel for apricot-select (setup.py) ... \u001b[?25l\u001b[?25hdone\n",
            "  Created wheel for apricot-select: filename=apricot_select-0.6.1-py3-none-any.whl size=48764 sha256=a45321185470d853eb29981b8679934f9e43aef2a51e4a34e365c5803d751fc7\n",
            "  Stored in directory: /root/.cache/pip/wheels/df/d8/f9/4d62b7272bff772a126a52e507212c2fd33c0b8416d9389665\n",
            "Successfully built apricot-select\n",
            "Installing collected packages: nose, apricot-select, pomegranate\n",
            "Successfully installed apricot-select-0.6.1 nose-1.3.7 pomegranate-1.0.3\n",
            "Collecting Bio\n",
            "  Downloading bio-1.6.2-py3-none-any.whl (278 kB)\n",
            "\u001b[2K     \u001b[90m━━━━━━━━━━━━━━━━━━━━━━━━━━━━━━━━━━━━━━━━\u001b[0m \u001b[32m278.6/278.6 kB\u001b[0m \u001b[31m1.2 MB/s\u001b[0m eta \u001b[36m0:00:00\u001b[0m\n",
            "\u001b[?25hCollecting biopython>=1.80 (from Bio)\n",
            "  Downloading biopython-1.83-cp310-cp310-manylinux_2_17_x86_64.manylinux2014_x86_64.whl (3.1 MB)\n",
            "\u001b[2K     \u001b[90m━━━━━━━━━━━━━━━━━━━━━━━━━━━━━━━━━━━━━━━━\u001b[0m \u001b[32m3.1/3.1 MB\u001b[0m \u001b[31m1.3 MB/s\u001b[0m eta \u001b[36m0:00:00\u001b[0m\n",
            "\u001b[?25hRequirement already satisfied: requests in /usr/local/lib/python3.10/dist-packages (from Bio) (2.31.0)\n",
            "Requirement already satisfied: tqdm in /usr/local/lib/python3.10/dist-packages (from Bio) (4.66.1)\n",
            "Collecting mygene (from Bio)\n",
            "  Downloading mygene-3.2.2-py2.py3-none-any.whl (5.4 kB)\n",
            "Requirement already satisfied: pandas in /usr/local/lib/python3.10/dist-packages (from Bio) (1.5.3)\n",
            "Requirement already satisfied: pooch in /usr/local/lib/python3.10/dist-packages (from Bio) (1.8.0)\n",
            "Collecting gprofiler-official (from Bio)\n",
            "  Downloading gprofiler_official-1.0.0-py3-none-any.whl (9.3 kB)\n",
            "Requirement already satisfied: numpy in /usr/local/lib/python3.10/dist-packages (from biopython>=1.80->Bio) (1.23.5)\n",
            "Collecting biothings-client>=0.2.6 (from mygene->Bio)\n",
            "  Downloading biothings_client-0.3.1-py2.py3-none-any.whl (29 kB)\n",
            "Requirement already satisfied: python-dateutil>=2.8.1 in /usr/local/lib/python3.10/dist-packages (from pandas->Bio) (2.8.2)\n",
            "Requirement already satisfied: pytz>=2020.1 in /usr/local/lib/python3.10/dist-packages (from pandas->Bio) (2023.3.post1)\n",
            "Requirement already satisfied: platformdirs>=2.5.0 in /usr/local/lib/python3.10/dist-packages (from pooch->Bio) (4.1.0)\n",
            "Requirement already satisfied: packaging>=20.0 in /usr/local/lib/python3.10/dist-packages (from pooch->Bio) (23.2)\n",
            "Requirement already satisfied: charset-normalizer<4,>=2 in /usr/local/lib/python3.10/dist-packages (from requests->Bio) (3.3.2)\n",
            "Requirement already satisfied: idna<4,>=2.5 in /usr/local/lib/python3.10/dist-packages (from requests->Bio) (3.6)\n",
            "Requirement already satisfied: urllib3<3,>=1.21.1 in /usr/local/lib/python3.10/dist-packages (from requests->Bio) (2.0.7)\n",
            "Requirement already satisfied: certifi>=2017.4.17 in /usr/local/lib/python3.10/dist-packages (from requests->Bio) (2023.11.17)\n",
            "Requirement already satisfied: six>=1.5 in /usr/local/lib/python3.10/dist-packages (from python-dateutil>=2.8.1->pandas->Bio) (1.16.0)\n",
            "Installing collected packages: biopython, gprofiler-official, biothings-client, mygene, Bio\n",
            "Successfully installed Bio-1.6.2 biopython-1.83 biothings-client-0.3.1 gprofiler-official-1.0.0 mygene-3.2.2\n"
          ]
        }
      ]
    },
    {
      "cell_type": "code",
      "source": [
        "!git clone https://github.com/AvonYangXX1/DreamWalker.git"
      ],
      "metadata": {
        "colab": {
          "base_uri": "https://localhost:8080/"
        },
        "id": "TMKoew03yFar",
        "outputId": "1a21f260-2030-42da-a4c3-23a91de7dc50"
      },
      "execution_count": null,
      "outputs": [
        {
          "output_type": "stream",
          "name": "stdout",
          "text": [
            "Cloning into 'DreamWalker'...\n",
            "remote: Enumerating objects: 320, done.\u001b[K\n",
            "remote: Counting objects: 100% (109/109), done.\u001b[K\n",
            "remote: Compressing objects: 100% (96/96), done.\u001b[K\n",
            "remote: Total 320 (delta 25), reused 86 (delta 13), pack-reused 211\u001b[K\n",
            "Receiving objects: 100% (320/320), 891.33 MiB | 19.20 MiB/s, done.\n",
            "Resolving deltas: 100% (37/37), done.\n",
            "Updating files: 100% (128/128), done.\n"
          ]
        }
      ]
    },
    {
      "cell_type": "code",
      "execution_count": null,
      "metadata": {
        "id": "zqN2ltvLwOoc"
      },
      "outputs": [],
      "source": [
        "from Bio.Align import PairwiseAligner\n",
        "import pandas as pd\n",
        "import numpy as np\n",
        "import tensorflow as tf\n",
        "# from sklearn.mixture import GaussianMixture\n",
        "import pomegranate.distributions as pmg_dist\n",
        "from pomegranate.gmm import GeneralMixtureModel\n",
        "import seaborn as sns\n",
        "import matplotlib.pyplot as plt\n",
        "from sklearn.feature_extraction.text import CountVectorizer"
      ]
    },
    {
      "cell_type": "code",
      "source": [
        "class Preprocessing():\n",
        "    def __init__(self, k_size=6):\n",
        "        self.k_size = k_size\n",
        "        kmers = self.ref_kmers(\"\", self.k_size)\n",
        "        self.vectorizer = CountVectorizer(vocabulary = kmers)\n",
        "        self.seqs = []\n",
        "\n",
        "    def ref_kmers(self, current_kmer, current_depth):\n",
        "        if current_depth == 1:\n",
        "            return [current_kmer+\"a\",current_kmer+\"u\",current_kmer+\"c\",current_kmer+\"g\"]\n",
        "        else:\n",
        "            ret = self.ref_kmers(current_kmer+\"a\",current_depth-1)\n",
        "            for nt in ['u','c','g']:\n",
        "                ret += self.ref_kmers(current_kmer+nt,current_depth-1)\n",
        "            return ret\n",
        "\n",
        "    def seq2kmer(self, seq, k):\n",
        "        kmer = \"\"\n",
        "        for i in range(0,len(seq)-k,1):\n",
        "            kmer += seq[i:i+k]+\" \"\n",
        "        return kmer[:-1]\n",
        "\n",
        "    def CountKmers(self,seqs):\n",
        "        if type(seqs) in [type([]),type(pd.core.series.Series([1]))]:\n",
        "            kmer = pd.Series(seqs).apply(lambda x: self.seq2kmer(x, self.k_size))\n",
        "            transformed_X = self.vectorizer.transform(kmer).toarray()\n",
        "            return transformed_X\n",
        "        else:\n",
        "            raise ValueError(\"Invalid 'seqs' format. Expected formats are 'list' or 'pandas.core.series.Series'.\")\n",
        "\n",
        "    def ReadFASTA(self,filename,as_pd=True):\n",
        "        if filename.split(\".\")[-1] not in [\"fasta\",\"fna\",\"fa\"]:\n",
        "            raise ValueError('Invalid file format. Expected formats are [\"fasta\",\"fna\",\"fa\"].')\n",
        "        file_handle = open(filename,\"r\")\n",
        "        seqs = []\n",
        "        seqid = []\n",
        "        tmp_seq = \"\"\n",
        "        for line in file_handle:\n",
        "            if (line[0] == \">\"):\n",
        "                if tmp_seq != \"\":\n",
        "                    seqs.append(tmp_seq)\n",
        "                seqid.append(line.split(\"\\n\")[0][1:])\n",
        "                tmp_seq = \"\"\n",
        "            else:\n",
        "                tmp_seq+=line.split(\"\\n\")[0]\n",
        "        seqs.append(tmp_seq)\n",
        "        file_handle.close()\n",
        "        if as_pd:\n",
        "            fasta = {}\n",
        "            for i in range(len(seqs)):\n",
        "                fasta[seqid[i]] = seqs[i]\n",
        "            return pd.DataFrame(fasta,index=[\"sequence\"]).transpose()[\"sequence\"]\n",
        "        else:\n",
        "            return seqs, seqid"
      ],
      "metadata": {
        "id": "x4q5I6c-cTJH"
      },
      "execution_count": null,
      "outputs": []
    },
    {
      "cell_type": "code",
      "source": [
        "def create_classifier():\n",
        "    path = \"DreamWalker/model_weights\"\n",
        "    vocab_size = 3982\n",
        "    length = 19\n",
        "    encoder_inputs = tf.keras.layers.Input(shape=(1024,))\n",
        "    x = tf.keras.layers.RepeatVector(length, name=\"RepeatVector\")(encoder_inputs)\n",
        "    x = tf.keras.layers.GRU(1024, return_sequences=True, dropout=0.2, name=\"GRU0\")(x)\n",
        "    x = tf.keras.layers.GRU(1024, return_sequences=True, dropout=0.2, name=\"GRU1\")(x)\n",
        "    x = tf.keras.layers.Dense(vocab_size, activation=\"softmax\")(x)\n",
        "    classifier = tf.keras.models.Model(encoder_inputs, x)\n",
        "    classifier.compile(optimizer=tf.keras.optimizers.Adam(0.0001),\n",
        "                       loss='sparse_categorical_crossentropy',metrics=[\"accuracy\"])\n",
        "    for i, layer in enumerate(classifier.layers):\n",
        "        weights = np.load(f\"{path}/ClassifierWeights/layer_{i}_weights.npz\", allow_pickle=True)[\"weights\"]\n",
        "        layer.set_weights(weights)\n",
        "        layer.trainable = False\n",
        "    return classifier\n",
        "\n",
        "def create_oracle(seq_len=40):\n",
        "    inputs0 = tf.keras.layers.Input((seq_len, 43),name=\"SeqInput\")\n",
        "    inputs1 = tf.keras.layers.Input((1024,),name=\"BacteriaInput\")\n",
        "    # Extract Peptide Features\n",
        "    x0 = tf.keras.layers.Conv1D(128, 5, activation='relu', name=\"Conv1D_0\")(inputs0) # kernel_size=5 works well\n",
        "    x0 = tf.keras.layers.Conv1D(128, 5, activation='relu', name=\"Conv1D_1\")(x0) # Just two layers work better\n",
        "    x0 = tf.keras.layers.Flatten(name=\"Flatten_CNN\")(x0)\n",
        "    x0 = tf.keras.layers.Dense(512, activation=\"relu\", name=\"CNN_Dense0\")(x0)\n",
        "\n",
        "    # Target Marker Gene Representation\n",
        "    classifier = create_classifier()\n",
        "    MarkerRepresentModule = tf.keras.models.Model(classifier.layers[0].input,\n",
        "                                                  classifier.layers[-1].output,\n",
        "                                                  name=\"ClassifierModule\")\n",
        "    x1 = MarkerRepresentModule(inputs1)\n",
        "    x1 = tf.keras.layers.Conv1D(128, 4, activation='relu', name=\"Conv1D_GRU0\")(x1)\n",
        "    x1 = tf.keras.layers.Flatten(name=\"Flatten_GRU\")(x1)\n",
        "    x1 = tf.keras.layers.Dense(512, activation=\"relu\", name=\"GRU_DenseLast\")(x1) # mimic the previous version\n",
        "\n",
        "    # FCN\n",
        "    x = tf.keras.layers.Concatenate(axis=1, name=\"Concat_FCN\")([x0, x1])\n",
        "    x = tf.keras.layers.Dense(1024, activation=\"relu\", name=\"FCN_Dense0\")(x)\n",
        "    x = tf.keras.layers.LayerNormalization(name=\"LayerNorm_0\")(x)\n",
        "    x = tf.keras.layers.Dense(512, activation=\"relu\", name=\"FCN_Dense1\")(x)\n",
        "    x = tf.keras.layers.LayerNormalization(name=\"LayerNorm_1\")(x)\n",
        "    x = tf.keras.layers.Dense(1, activation=tf.keras.activations.softplus, name=\"Output\")(x)\n",
        "    model = tf.keras.models.Model([inputs0, inputs1], x, name=\"Oracle\")\n",
        "    model.compile(optimizer=tf.keras.optimizers.Adam(learning_rate=1e-4),\n",
        "                  loss=tf.keras.losses.MeanAbsoluteError(),\n",
        "                  metrics=[tf.keras.metrics.R2Score()])\n",
        "    return model"
      ],
      "metadata": {
        "id": "gzBgJM8cawsc"
      },
      "execution_count": null,
      "outputs": []
    },
    {
      "cell_type": "code",
      "source": [
        "oracle = create_oracle()\n",
        "path = \"DreamWalker/model_weights/OracleWeights\"\n",
        "for i, layer in enumerate(oracle.layers):\n",
        "    if i == 3:\n",
        "        continue\n",
        "    param = layer.get_weights()\n",
        "    if len(param) == 0:\n",
        "        continue\n",
        "    weights = np.load(f\"{path}/layer_{i}_weights.npz\")[\"weights\"]\n",
        "    biases = np.load(f\"{path}/layer_{i}_biases.npz\")[\"biases\"]\n",
        "    layer.set_weights([weights, biases])"
      ],
      "metadata": {
        "id": "BKWOh_dQawut"
      },
      "execution_count": null,
      "outputs": []
    },
    {
      "cell_type": "code",
      "source": [
        "aa_vocal = np.load(\"DreamWalker/model_weights/PepTV_vocal.npy\")\n",
        "PepTV = tf.keras.layers.TextVectorization(standardize=None, split=\"character\",\n",
        "                                          output_sequence_length=40,\n",
        "                                          output_mode=\"int\", name=\"PepTextVectorizer\")\n",
        "PepTV.set_vocabulary(aa_vocal)"
      ],
      "metadata": {
        "id": "gPatm9ii68sE"
      },
      "execution_count": null,
      "outputs": []
    },
    {
      "cell_type": "code",
      "source": [
        "def evaluate_pep(pep, query):\n",
        "    enc_aln_pep = PepTV(pep).numpy()\n",
        "    enc_aln_pep = tf.one_hot(enc_aln_pep, 43)\n",
        "    query_kmers = pp.CountKmers([query])\n",
        "    mic = oracle.predict([enc_aln_pep, np.repeat(query_kmers, 10, axis=0)], verbose=0)\n",
        "    return mic"
      ],
      "metadata": {
        "id": "rkWlGf7t681E"
      },
      "execution_count": null,
      "outputs": []
    },
    {
      "cell_type": "markdown",
      "source": [
        "# Modeling"
      ],
      "metadata": {
        "id": "-OHB9yO1wZAm"
      }
    },
    {
      "cell_type": "code",
      "source": [
        "pp = Preprocessing(k_size=5)\n",
        "urgent_targets = pp.ReadFASTA('urgent_targets.fasta')"
      ],
      "metadata": {
        "id": "v0XMYoEV8KVo"
      },
      "execution_count": null,
      "outputs": []
    },
    {
      "cell_type": "code",
      "execution_count": null,
      "metadata": {
        "id": "61wHjEBiwOog"
      },
      "outputs": [],
      "source": [
        "path_to_targets = 'DreamWalker/data/processed_data/Baseline/targets.csv'\n",
        "path_to_keys = 'DreamWalker/data/processed_data/Baseline/keys.csv'\n",
        "path_to_pep = \"DreamWalker/data/processed_data/Baseline/enc_aln_pep.npz\""
      ]
    },
    {
      "cell_type": "code",
      "execution_count": null,
      "metadata": {
        "id": "f8sANmktwOof"
      },
      "outputs": [],
      "source": [
        "class KinsfolkProfileSampler():\n",
        "    def __init__(self, path_to_targets, path_to_keys, path_to_pep, query, nlargest=10):\n",
        "        self.aligner = PairwiseAligner()\n",
        "        self.targets = pd.read_csv(path_to_targets)\n",
        "        self.keys = pd.read_csv(path_to_keys)\n",
        "        self.peptides = np.load(path_to_pep)['data']\n",
        "        aa_vocal = np.load(\"DreamWalker/model_weights/PepTV_vocal.npy\")\n",
        "        self.pep_decoder = tf.keras.layers.StringLookup(vocabulary=[\"\"] + aa_vocal[2:].tolist(), invert=True, oov_token='[UNK]')\n",
        "        self.weights, self.selected_pep = self.findpep(query, nlargest)\n",
        "        self.gmm = None\n",
        "\n",
        "    def SelectParam(self, min_n_components=2, max_n_components=10):\n",
        "        bics = {}\n",
        "        n_components = min_n_components\n",
        "        while n_components <= max_n_components:\n",
        "            bic = self.create_gmm(n_components=n_components)\n",
        "            print(f\"{n_components} components; bic={int(bic)}\")\n",
        "            bics[n_components] = bic\n",
        "            n_components += 1\n",
        "        argmin = np.argmin(list(bics.values()))\n",
        "        n_components = list(bics.keys())[argmin]\n",
        "        print(f\"The number of components is determined as {n_components}.\")\n",
        "        self.create_gmm(n_components=n_components)\n",
        "        return bics\n",
        "\n",
        "    def BIC(self, n_components):\n",
        "        lnL = self.gmm.log_probability(self.selected_pep).numpy().sum()\n",
        "        n_categories = self.selected_pep.max() + 1\n",
        "        k = (n_categories-1) * n_components + n_components - 1\n",
        "        n = self.selected_pep.shape[0]\n",
        "        bic = -2*lnL + k*np.log(n)\n",
        "        return bic\n",
        "\n",
        "    def create_gmm(self, n_components):\n",
        "        n_categories = self.selected_pep.max() + 1\n",
        "        bic = np.nan\n",
        "        while np.isnan(bic):\n",
        "            dists = [pmg_dist.Categorical(n_categories=n_categories) for i in range(n_components)]\n",
        "            self.gmm = GeneralMixtureModel(dists, verbose=False, max_iter=100)\n",
        "            self.gmm.fit(self.selected_pep, sample_weight=self.weights)\n",
        "            bic = self.BIC(n_components)\n",
        "            if np.isnan(bic):\n",
        "                print('Failed to converge. Repeat current iteration.')\n",
        "        return bic\n",
        "\n",
        "    def align(self, query):\n",
        "        scores = self.targets['Marker'].apply(lambda x: self.aligner.align(x, query)[0].score)\n",
        "        return scores\n",
        "\n",
        "    def findkins(self, query, nlargest=10):\n",
        "        scores = self.align(query)\n",
        "        indices = scores.nlargest(nlargest).index.values\n",
        "        kins = pd.concat([scores.nlargest(nlargest), self.targets[\"Target\"][indices]], axis=1)\n",
        "        return kins\n",
        "\n",
        "    def findpep(self, query, nlargest=10):\n",
        "        kins = self.findkins(query, nlargest)\n",
        "        pepids = kins.merge(self.keys, on='Target')\n",
        "        pepindices = pepids['PepID'].apply(lambda x: int(x.split('pep.')[1])).values\n",
        "        scores = pepids.iloc[:,0]\n",
        "        weights = np.exp(scores.values/100) / np.exp(scores.values/100).sum()\n",
        "        return weights, self.peptides[pepindices]\n",
        "\n",
        "    def Design(self, n_pep=10):\n",
        "        return self.indices2seq(self.gmm.sample(n_pep).numpy())\n",
        "\n",
        "    def indices2seq(self, indices):\n",
        "        decoded_sequences = []\n",
        "        chars_array = self.pep_decoder(indices).numpy().astype('str')\n",
        "        decoded_sequences += [\"\".join(chars) for chars in chars_array]\n",
        "        return decoded_sequences\n"
      ]
    },
    {
      "cell_type": "code",
      "execution_count": null,
      "metadata": {
        "id": "NT3WTTmowOog"
      },
      "outputs": [],
      "source": [
        "kps = KinsfolkProfileSampler(path_to_targets, path_to_keys, path_to_pep,\n",
        "                             query=urgent_targets[2])"
      ]
    },
    {
      "cell_type": "code",
      "source": [
        "bics = kps.SelectParam(2, 10)"
      ],
      "metadata": {
        "colab": {
          "base_uri": "https://localhost:8080/"
        },
        "id": "bVCTaVHHbtfC",
        "outputId": "2a6821d5-95b8-4fa8-eed4-db4268ffba1f"
      },
      "execution_count": null,
      "outputs": [
        {
          "output_type": "stream",
          "name": "stdout",
          "text": [
            "2 components; bic=7715\n",
            "3 components; bic=6898\n",
            "4 components; bic=6968\n",
            "5 components; bic=6359\n",
            "6 components; bic=6985\n",
            "7 components; bic=6232\n",
            "8 components; bic=5607\n",
            "9 components; bic=5997\n",
            "10 components; bic=5020\n",
            "The number of components is determined as 10.\n"
          ]
        }
      ]
    },
    {
      "cell_type": "code",
      "execution_count": null,
      "metadata": {
        "id": "XfXymkZNwOoh"
      },
      "outputs": [],
      "source": [
        "pep = kps.Design(10)"
      ]
    },
    {
      "cell_type": "code",
      "source": [
        "evaluate_pep(pep, urgent_targets[2])"
      ],
      "metadata": {
        "colab": {
          "base_uri": "https://localhost:8080/"
        },
        "id": "QnQ5nuoF2XKh",
        "outputId": "3d7fc6f3-95c5-40ef-d6db-823e4d7bf166"
      },
      "execution_count": null,
      "outputs": [
        {
          "output_type": "execute_result",
          "data": {
            "text/plain": [
              "array([[5.0083566],\n",
              "       [2.8947423],\n",
              "       [2.845046 ],\n",
              "       [5.663798 ],\n",
              "       [4.9198623],\n",
              "       [5.201288 ],\n",
              "       [4.9465523],\n",
              "       [5.1193376],\n",
              "       [5.751469 ],\n",
              "       [2.9416316]], dtype=float32)"
            ]
          },
          "metadata": {},
          "execution_count": 273
        }
      ]
    },
    {
      "cell_type": "code",
      "source": [
        "evaluate_pep(pep, urgent_targets[1])"
      ],
      "metadata": {
        "id": "IM-3adMsa7uN",
        "colab": {
          "base_uri": "https://localhost:8080/"
        },
        "outputId": "88fdab79-dee1-4206-a8ee-ee7bf769ed7c"
      },
      "execution_count": null,
      "outputs": [
        {
          "output_type": "execute_result",
          "data": {
            "text/plain": [
              "array([[5.0566487],\n",
              "       [3.6762202],\n",
              "       [3.787516 ],\n",
              "       [3.8285596],\n",
              "       [2.9584646],\n",
              "       [3.632147 ],\n",
              "       [3.5904891],\n",
              "       [2.433917 ],\n",
              "       [5.476742 ],\n",
              "       [3.1930895]], dtype=float32)"
            ]
          },
          "metadata": {},
          "execution_count": 219
        }
      ]
    },
    {
      "cell_type": "code",
      "source": [
        "evaluate_pep(pep, urgent_targets[0])"
      ],
      "metadata": {
        "colab": {
          "base_uri": "https://localhost:8080/"
        },
        "id": "WI1zAaLNa7rN",
        "outputId": "b47331a6-2427-48d3-80a9-24a8822b9620"
      },
      "execution_count": null,
      "outputs": [
        {
          "output_type": "execute_result",
          "data": {
            "text/plain": [
              "array([[4.2584863],\n",
              "       [3.7051752],\n",
              "       [4.79426  ],\n",
              "       [4.4406276],\n",
              "       [4.86472  ],\n",
              "       [4.563173 ],\n",
              "       [4.313587 ],\n",
              "       [5.139053 ],\n",
              "       [4.440681 ],\n",
              "       [3.966105 ]], dtype=float32)"
            ]
          },
          "metadata": {},
          "execution_count": 214
        }
      ]
    },
    {
      "cell_type": "code",
      "source": [],
      "metadata": {
        "id": "xoZ8ipN_a7vp"
      },
      "execution_count": null,
      "outputs": []
    }
  ],
  "metadata": {
    "kernelspec": {
      "display_name": "Python 3",
      "language": "python",
      "name": "python3"
    },
    "language_info": {
      "codemirror_mode": {
        "name": "ipython",
        "version": 3
      },
      "file_extension": ".py",
      "mimetype": "text/x-python",
      "name": "python",
      "nbconvert_exporter": "python",
      "pygments_lexer": "ipython3",
      "version": "3.8.5"
    },
    "colab": {
      "provenance": [],
      "collapsed_sections": [
        "7JwTJ4P4wWQW"
      ]
    }
  },
  "nbformat": 4,
  "nbformat_minor": 0
}